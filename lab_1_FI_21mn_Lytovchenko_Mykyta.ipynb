{
 "cells": [
  {
   "cell_type": "markdown",
   "source": [
    "# Laboratory work #1\n",
    "For beginning importing libraries."
   ],
   "metadata": {
    "collapsed": false,
    "pycharm": {
     "name": "#%% md\n"
    }
   }
  },
  {
   "cell_type": "code",
   "execution_count": 9,
   "metadata": {
    "collapsed": true,
    "pycharm": {
     "name": "#%%\n"
    }
   },
   "outputs": [],
   "source": [
    "# Importing scikit-learn libraries\n",
    "from sklearn.metrics import classification_report, confusion_matrix\n",
    "\n",
    "# Importing other libraries\n",
    "import numpy as np\n",
    "import pandas as pd\n",
    "import seaborn as sns\n",
    "import matplotlib.pyplot as plt\n",
    "\n",
    "import zipfile"
   ]
  },
  {
   "cell_type": "markdown",
   "source": [
    "#### Downloading Dataset\n",
    "Our dataset is Possible Asteroid Impacts with Earth (from [kaggle](https://www.kaggle.com/datasets/nasa/asteroid-impacts))"
   ],
   "metadata": {
    "collapsed": false,
    "pycharm": {
     "name": "#%% md\n"
    }
   }
  },
  {
   "cell_type": "markdown",
   "source": [
    "## Preprocessing Dataset"
   ],
   "metadata": {
    "collapsed": false,
    "pycharm": {
     "name": "#%% md\n"
    }
   }
  },
  {
   "cell_type": "code",
   "execution_count": 14,
   "outputs": [],
   "source": [
    "# Loading dataset to pandas DataFrame\n",
    "asteroid_orbits_df = pd.read_csv(\"datasets\\\\asteroid_dataset\\\\orbits.csv\")\n",
    "asteroid_impacts_df = pd.read_csv(\"datasets\\\\asteroid_dataset\\\\impacts.csv\")"
   ],
   "metadata": {
    "collapsed": false,
    "pycharm": {
     "name": "#%%\n"
    }
   }
  },
  {
   "cell_type": "code",
   "execution_count": 16,
   "outputs": [
    {
     "name": "stdout",
     "output_type": "stream",
     "text": [
      "    Object Name Object Classification  Epoch (TDB)  Orbit Axis (AU)  \\\n",
      "0      433 Eros         Amor Asteroid        57800           1.4579   \n",
      "1    719 Albert         Amor Asteroid        57800           2.6385   \n",
      "2    887 Alinda         Amor Asteroid        57800           2.4787   \n",
      "3  1036 Ganymed         Amor Asteroid        57800           2.6628   \n",
      "4     1221 Amor         Amor Asteroid        57800           1.9191   \n",
      "\n",
      "   Orbit Eccentricity  Orbit Inclination (deg)  Perihelion Argument (deg)  \\\n",
      "0              0.2226                  10.8277                   178.8050   \n",
      "1              0.5479                  11.5822                   156.1409   \n",
      "2              0.5671                   9.3561                   350.3482   \n",
      "3              0.5338                  26.6929                   132.4690   \n",
      "4              0.4356                  11.8795                    26.6572   \n",
      "\n",
      "   Node Longitude (deg)  Mean Anomoly (deg)  Perihelion Distance (AU)  \\\n",
      "0              304.3265            319.3111                    1.1335   \n",
      "1              183.9204            224.5535                    1.1928   \n",
      "2              110.5444            351.3730                    1.0731   \n",
      "3              215.5551             92.5640                    1.2413   \n",
      "4              171.3448            313.7379                    1.0832   \n",
      "\n",
      "   Aphelion Distance (AU)  Orbital Period (yr)  \\\n",
      "0                    1.78                 1.76   \n",
      "1                    4.08                 4.29   \n",
      "2                    3.88                 3.90   \n",
      "3                    4.08                 4.35   \n",
      "4                    2.76                 2.66   \n",
      "\n",
      "   Minimum Orbit Intersection Distance (AU)  Orbital Reference  \\\n",
      "0                                    0.1492                598   \n",
      "1                                    0.2004                 78   \n",
      "2                                    0.0925                188   \n",
      "3                                    0.3421                597   \n",
      "4                                    0.1068                 70   \n",
      "\n",
      "   Asteroid Magnitude  \n",
      "0               11.16  \n",
      "1               15.50  \n",
      "2               13.40  \n",
      "3                9.45  \n",
      "4               17.70  \n",
      "  Object Name  Period Start  Period End  Possible Impacts  \\\n",
      "0    2006 WP1          2017        2017                 1   \n",
      "1     2013 YB          2017        2046                23   \n",
      "2     2008 US          2017        2062                30   \n",
      "3  2010 VR139          2017        2076                24   \n",
      "4  2015 ME131          2017        2096                85   \n",
      "\n",
      "   Cumulative Impact Probability  Asteroid Velocity  Asteroid Magnitude  \\\n",
      "0                   5.200000e-09              17.77                28.3   \n",
      "1                   7.600000e-05               8.98                31.4   \n",
      "2                   1.600000e-05              18.33                31.4   \n",
      "3                   2.000000e-07               4.99                26.7   \n",
      "4                   2.300000e-08              19.46                19.2   \n",
      "\n",
      "   Asteroid Diameter (km)  Cumulative Palermo Scale  Maximum Palermo Scale  \\\n",
      "0                   0.007                     -8.31                  -8.31   \n",
      "1                   0.002                     -6.60                  -6.96   \n",
      "2                   0.002                     -6.48                  -6.87   \n",
      "3                   0.016                     -6.83                  -6.95   \n",
      "4                   0.497                     -3.85                  -4.30   \n",
      "\n",
      "  Maximum Torino Scale  \n",
      "0                    0  \n",
      "1                    0  \n",
      "2                    0  \n",
      "3                    0  \n",
      "4                    0  \n",
      "==>Column names<==\n",
      "=>orbits names: ['Object Name', 'Object Classification', 'Epoch (TDB)', 'Orbit Axis (AU)', 'Orbit Eccentricity', 'Orbit Inclination (deg)', 'Perihelion Argument (deg)', 'Node Longitude (deg)', 'Mean Anomoly (deg)', 'Perihelion Distance (AU)', 'Aphelion Distance (AU)', 'Orbital Period (yr)', 'Minimum Orbit Intersection Distance (AU)', 'Orbital Reference', 'Asteroid Magnitude']\n",
      "=>impact names: ['Object Name', 'Period Start', 'Period End', 'Possible Impacts', 'Cumulative Impact Probability', 'Asteroid Velocity', 'Asteroid Magnitude', 'Asteroid Diameter (km)', 'Cumulative Palermo Scale', 'Maximum Palermo Scale', 'Maximum Torino Scale']\n",
      "==>Dataset size<==\n",
      "orbits size=234525\n",
      "impact size=7513\n"
     ]
    }
   ],
   "source": [
    "# Getting data from dataframe\n",
    "print(asteroid_orbits_df.head())\n",
    "print(asteroid_impacts_df.head())\n",
    "# Getting names of column\n",
    "print(\"==>Column names<==\")\n",
    "print(f\"=>orbits names: {asteroid_orbits_df.columns.tolist()}\")\n",
    "print(f\"=>impact names: {asteroid_impacts_df.columns.tolist()}\")\n",
    "# Getting size of dataset\n",
    "print(\"==>Dataset size<==\")\n",
    "print(f\"orbits shape={asteroid_orbits_df.shape}\")\n",
    "print(f\"impact shape={asteroid_impacts_df.shape}\")"
   ],
   "metadata": {
    "collapsed": false,
    "pycharm": {
     "name": "#%%\n"
    }
   }
  },
  {
   "cell_type": "code",
   "execution_count": 20,
   "outputs": [],
   "source": [
    "# Renaming some columns\n",
    "asteroid_orbits_df = asteroid_orbits_df.rename(columns={\"Object Name\": \"Name\"})\n",
    "asteroid_impacts_df = asteroid_impacts_df.rename(columns={\"Object Name\": \"Name\"})"
   ],
   "metadata": {
    "collapsed": false,
    "pycharm": {
     "name": "#%%\n"
    }
   }
  },
  {
   "cell_type": "code",
   "execution_count": 22,
   "outputs": [],
   "source": [
    "# Choosing some columns for analysis\n",
    "asteroid_orbits_df = asteroid_orbits_df.loc[:, [\"Name\", \"Orbit Axis (AU)\", \"Orbit Eccentricity\",\n",
    "                                                \"Orbit Inclination (deg)\", \"Asteroid Magnitude\"]]\n",
    "asteroid_impacts_df = asteroid_impacts_df.loc[:, [\"Name\", \"Possible Impacts\", \"Cumulative Impact Probability\",\n",
    "                                                  \"Asteroid Velocity\", \"Asteroid Diameter (km)\",\n",
    "                                                  \"Asteroid Magnitude\", \"Maximum Palermo Scale\",\n",
    "                                                  \"Maximum Torino Scale\"]]"
   ],
   "metadata": {
    "collapsed": false,
    "pycharm": {
     "name": "#%%\n"
    }
   }
  },
  {
   "cell_type": "markdown",
   "source": [
    "### Combining DataFrames"
   ],
   "metadata": {
    "collapsed": false,
    "pycharm": {
     "name": "#%% md\n"
    }
   }
  },
  {
   "cell_type": "code",
   "execution_count": 73,
   "outputs": [
    {
     "name": "stdout",
     "output_type": "stream",
     "text": [
      "       Name  Possible Impacts\n",
      "2   2008 US              30.0\n",
      "12  2008 XK             171.0\n"
     ]
    }
   ],
   "source": [
    "asteroid_df = pd.concat([asteroid_orbits_df, asteroid_impacts_df])\n",
    "print(asteroid_df.loc[asteroid_df[\"Name\"].isin([\"2008 US\", \"2008 XK\", \"6239 Minos\"]), [\"Name\", \"Possible Impacts\"]])"
   ],
   "metadata": {
    "collapsed": false,
    "pycharm": {
     "name": "#%%\n"
    }
   }
  },
  {
   "cell_type": "markdown",
   "source": [
    "### NaN Checking & Preprocessing"
   ],
   "metadata": {
    "collapsed": false,
    "pycharm": {
     "name": "#%% md\n"
    }
   }
  },
  {
   "cell_type": "code",
   "execution_count": 74,
   "outputs": [
    {
     "name": "stdout",
     "output_type": "stream",
     "text": [
      "Have NaN variables\n",
      "Count of NaN: 95860\n",
      "==>Count of Nan per column<==\n",
      "Name                                 0\n",
      "Orbit Axis (AU)                    683\n",
      "Orbit Eccentricity                 683\n",
      "Orbit Inclination (deg)            683\n",
      "Asteroid Magnitude                   1\n",
      "Possible Impacts                 15635\n",
      "Cumulative Impact Probability    15635\n",
      "Asteroid Velocity                15635\n",
      "Asteroid Diameter (km)           15635\n",
      "Maximum Palermo Scale            15635\n",
      "Maximum Torino Scale             15635\n",
      "dtype: int64\n"
     ]
    }
   ],
   "source": [
    "# Checking NaN variables in our dataset\n",
    "print(\"Have NaN variables\" if asteroid_df.isnull().values.any() else\n",
    "      \"Don't have NaN variables\")\n",
    "# Counting NaN variables\n",
    "print(f\"Count of NaN: {asteroid_df.isnull().sum().sum()}\")\n",
    "# Checking NaN per columns\n",
    "print(\"==>Count of Nan per column<==\")\n",
    "print(asteroid_df.isnull().sum())"
   ],
   "metadata": {
    "collapsed": false,
    "pycharm": {
     "name": "#%%\n"
    }
   }
  },
  {
   "cell_type": "code",
   "execution_count": 89,
   "outputs": [
    {
     "name": "stdout",
     "output_type": "stream",
     "text": [
      "      id               firstname    surname category\n",
      "896  524           Martin Luther   King Jr.    peace\n",
      "903  463                Fr_d_ric      Passy    peace\n",
      "904  466          William Randal     Cremer    peace\n",
      "905  462              Jean Henry     Dunant    peace\n",
      "906  475  Auguste Marie Franois  Beernaert    peace\n"
     ]
    }
   ],
   "source": [
    "# Preprocessing data gaps (NaN variables)\n",
    "asteroid_orbits_df = asteroid_orbits_df.loc[~asteroid_orbits_df[\"firstname\"].isna()\n",
    "                                              & ~asteroid_orbits_df[\"surname\"].isna()]\n",
    "print(asteroid_orbits_df.head())"
   ],
   "metadata": {
    "collapsed": false,
    "pycharm": {
     "name": "#%%\n"
    }
   }
  },
  {
   "cell_type": "markdown",
   "source": [
    "## Visualising Dataset"
   ],
   "metadata": {
    "collapsed": false,
    "pycharm": {
     "name": "#%% md\n"
    }
   }
  },
  {
   "cell_type": "code",
   "execution_count": 70,
   "outputs": [
    {
     "name": "stderr",
     "output_type": "stream",
     "text": [
      "C:\\Users\\Who\\AppData\\Local\\Temp\\ipykernel_4348\\2893843219.py:2: MatplotlibDeprecationWarning: The seaborn styles shipped by Matplotlib are deprecated since 3.6, as they no longer correspond to the styles shipped by seaborn. However, they will remain available as 'seaborn-v0_8-<style>'. Alternatively, directly use the seaborn API instead.\n",
      "  plt.style.use(\"seaborn\")\n"
     ]
    },
    {
     "ename": "ValueError",
     "evalue": "zero-size array to reduction operation fmin which has no identity",
     "output_type": "error",
     "traceback": [
      "\u001B[1;31m---------------------------------------------------------------------------\u001B[0m",
      "\u001B[1;31mValueError\u001B[0m                                Traceback (most recent call last)",
      "Cell \u001B[1;32mIn [70], line 4\u001B[0m\n\u001B[0;32m      2\u001B[0m plt\u001B[38;5;241m.\u001B[39mstyle\u001B[38;5;241m.\u001B[39muse(\u001B[38;5;124m\"\u001B[39m\u001B[38;5;124mseaborn\u001B[39m\u001B[38;5;124m\"\u001B[39m)\n\u001B[0;32m      3\u001B[0m plt\u001B[38;5;241m.\u001B[39mfigure(figsize\u001B[38;5;241m=\u001B[39m(\u001B[38;5;241m10\u001B[39m, \u001B[38;5;241m10\u001B[39m))\n\u001B[1;32m----> 4\u001B[0m heat_map \u001B[38;5;241m=\u001B[39m \u001B[43msns\u001B[49m\u001B[38;5;241;43m.\u001B[39;49m\u001B[43mheatmap\u001B[49m\u001B[43m(\u001B[49m\u001B[43mnobel_prize_winners\u001B[49m\u001B[43m,\u001B[49m\u001B[43m \u001B[49m\u001B[43mlinewidths\u001B[49m\u001B[38;5;241;43m=\u001B[39;49m\u001B[38;5;241;43m1\u001B[39;49m\u001B[43m,\u001B[49m\u001B[43m \u001B[49m\u001B[43mannot\u001B[49m\u001B[38;5;241;43m=\u001B[39;49m\u001B[38;5;28;43;01mTrue\u001B[39;49;00m\u001B[43m)\u001B[49m\n\u001B[0;32m      5\u001B[0m plt\u001B[38;5;241m.\u001B[39mtitle(\u001B[38;5;124m\"\u001B[39m\u001B[38;5;124mHeatMap\u001B[39m\u001B[38;5;124m\"\u001B[39m)\n\u001B[0;32m      6\u001B[0m plt\u001B[38;5;241m.\u001B[39mshow()\n",
      "File \u001B[1;32mD:\\.main\\.code\\data_analysis_labs\\venv\\lib\\site-packages\\seaborn\\matrix.py:543\u001B[0m, in \u001B[0;36mheatmap\u001B[1;34m(data, vmin, vmax, cmap, center, robust, annot, fmt, annot_kws, linewidths, linecolor, cbar, cbar_kws, cbar_ax, square, xticklabels, yticklabels, mask, ax, **kwargs)\u001B[0m\n\u001B[0;32m    365\u001B[0m \u001B[38;5;124;03m\"\"\"Plot rectangular data as a color-encoded matrix.\u001B[39;00m\n\u001B[0;32m    366\u001B[0m \n\u001B[0;32m    367\u001B[0m \u001B[38;5;124;03mThis is an Axes-level function and will draw the heatmap into the\u001B[39;00m\n\u001B[1;32m   (...)\u001B[0m\n\u001B[0;32m    540\u001B[0m \u001B[38;5;124;03m    ...     ax = sns.heatmap(corr, mask=mask, vmax=.3, square=True)\u001B[39;00m\n\u001B[0;32m    541\u001B[0m \u001B[38;5;124;03m\"\"\"\u001B[39;00m\n\u001B[0;32m    542\u001B[0m \u001B[38;5;66;03m# Initialize the plotter object\u001B[39;00m\n\u001B[1;32m--> 543\u001B[0m plotter \u001B[38;5;241m=\u001B[39m \u001B[43m_HeatMapper\u001B[49m\u001B[43m(\u001B[49m\u001B[43mdata\u001B[49m\u001B[43m,\u001B[49m\u001B[43m \u001B[49m\u001B[43mvmin\u001B[49m\u001B[43m,\u001B[49m\u001B[43m \u001B[49m\u001B[43mvmax\u001B[49m\u001B[43m,\u001B[49m\u001B[43m \u001B[49m\u001B[43mcmap\u001B[49m\u001B[43m,\u001B[49m\u001B[43m \u001B[49m\u001B[43mcenter\u001B[49m\u001B[43m,\u001B[49m\u001B[43m \u001B[49m\u001B[43mrobust\u001B[49m\u001B[43m,\u001B[49m\u001B[43m \u001B[49m\u001B[43mannot\u001B[49m\u001B[43m,\u001B[49m\u001B[43m \u001B[49m\u001B[43mfmt\u001B[49m\u001B[43m,\u001B[49m\n\u001B[0;32m    544\u001B[0m \u001B[43m                      \u001B[49m\u001B[43mannot_kws\u001B[49m\u001B[43m,\u001B[49m\u001B[43m \u001B[49m\u001B[43mcbar\u001B[49m\u001B[43m,\u001B[49m\u001B[43m \u001B[49m\u001B[43mcbar_kws\u001B[49m\u001B[43m,\u001B[49m\u001B[43m \u001B[49m\u001B[43mxticklabels\u001B[49m\u001B[43m,\u001B[49m\n\u001B[0;32m    545\u001B[0m \u001B[43m                      \u001B[49m\u001B[43myticklabels\u001B[49m\u001B[43m,\u001B[49m\u001B[43m \u001B[49m\u001B[43mmask\u001B[49m\u001B[43m)\u001B[49m\n\u001B[0;32m    547\u001B[0m \u001B[38;5;66;03m# Add the pcolormesh kwargs here\u001B[39;00m\n\u001B[0;32m    548\u001B[0m kwargs[\u001B[38;5;124m\"\u001B[39m\u001B[38;5;124mlinewidths\u001B[39m\u001B[38;5;124m\"\u001B[39m] \u001B[38;5;241m=\u001B[39m linewidths\n",
      "File \u001B[1;32mD:\\.main\\.code\\data_analysis_labs\\venv\\lib\\site-packages\\seaborn\\matrix.py:163\u001B[0m, in \u001B[0;36m_HeatMapper.__init__\u001B[1;34m(self, data, vmin, vmax, cmap, center, robust, annot, fmt, annot_kws, cbar, cbar_kws, xticklabels, yticklabels, mask)\u001B[0m\n\u001B[0;32m    160\u001B[0m \u001B[38;5;28mself\u001B[39m\u001B[38;5;241m.\u001B[39mylabel \u001B[38;5;241m=\u001B[39m ylabel \u001B[38;5;28;01mif\u001B[39;00m ylabel \u001B[38;5;129;01mis\u001B[39;00m \u001B[38;5;129;01mnot\u001B[39;00m \u001B[38;5;28;01mNone\u001B[39;00m \u001B[38;5;28;01melse\u001B[39;00m \u001B[38;5;124m\"\u001B[39m\u001B[38;5;124m\"\u001B[39m\n\u001B[0;32m    162\u001B[0m \u001B[38;5;66;03m# Determine good default values for the colormapping\u001B[39;00m\n\u001B[1;32m--> 163\u001B[0m \u001B[38;5;28;43mself\u001B[39;49m\u001B[38;5;241;43m.\u001B[39;49m\u001B[43m_determine_cmap_params\u001B[49m\u001B[43m(\u001B[49m\u001B[43mplot_data\u001B[49m\u001B[43m,\u001B[49m\u001B[43m \u001B[49m\u001B[43mvmin\u001B[49m\u001B[43m,\u001B[49m\u001B[43m \u001B[49m\u001B[43mvmax\u001B[49m\u001B[43m,\u001B[49m\n\u001B[0;32m    164\u001B[0m \u001B[43m                            \u001B[49m\u001B[43mcmap\u001B[49m\u001B[43m,\u001B[49m\u001B[43m \u001B[49m\u001B[43mcenter\u001B[49m\u001B[43m,\u001B[49m\u001B[43m \u001B[49m\u001B[43mrobust\u001B[49m\u001B[43m)\u001B[49m\n\u001B[0;32m    166\u001B[0m \u001B[38;5;66;03m# Sort out the annotations\u001B[39;00m\n\u001B[0;32m    167\u001B[0m \u001B[38;5;28;01mif\u001B[39;00m annot \u001B[38;5;129;01mis\u001B[39;00m \u001B[38;5;28;01mNone\u001B[39;00m \u001B[38;5;129;01mor\u001B[39;00m annot \u001B[38;5;129;01mis\u001B[39;00m \u001B[38;5;28;01mFalse\u001B[39;00m:\n",
      "File \u001B[1;32mD:\\.main\\.code\\data_analysis_labs\\venv\\lib\\site-packages\\seaborn\\matrix.py:202\u001B[0m, in \u001B[0;36m_HeatMapper._determine_cmap_params\u001B[1;34m(self, plot_data, vmin, vmax, cmap, center, robust)\u001B[0m\n\u001B[0;32m    200\u001B[0m         vmin \u001B[38;5;241m=\u001B[39m np\u001B[38;5;241m.\u001B[39mnanpercentile(calc_data, \u001B[38;5;241m2\u001B[39m)\n\u001B[0;32m    201\u001B[0m     \u001B[38;5;28;01melse\u001B[39;00m:\n\u001B[1;32m--> 202\u001B[0m         vmin \u001B[38;5;241m=\u001B[39m \u001B[43mnp\u001B[49m\u001B[38;5;241;43m.\u001B[39;49m\u001B[43mnanmin\u001B[49m\u001B[43m(\u001B[49m\u001B[43mcalc_data\u001B[49m\u001B[43m)\u001B[49m\n\u001B[0;32m    203\u001B[0m \u001B[38;5;28;01mif\u001B[39;00m vmax \u001B[38;5;129;01mis\u001B[39;00m \u001B[38;5;28;01mNone\u001B[39;00m:\n\u001B[0;32m    204\u001B[0m     \u001B[38;5;28;01mif\u001B[39;00m robust:\n",
      "File \u001B[1;32m<__array_function__ internals>:180\u001B[0m, in \u001B[0;36mnanmin\u001B[1;34m(*args, **kwargs)\u001B[0m\n",
      "File \u001B[1;32mD:\\.main\\.code\\data_analysis_labs\\venv\\lib\\site-packages\\numpy\\lib\\nanfunctions.py:343\u001B[0m, in \u001B[0;36mnanmin\u001B[1;34m(a, axis, out, keepdims, initial, where)\u001B[0m\n\u001B[0;32m    338\u001B[0m     kwargs[\u001B[38;5;124m'\u001B[39m\u001B[38;5;124mwhere\u001B[39m\u001B[38;5;124m'\u001B[39m] \u001B[38;5;241m=\u001B[39m where\n\u001B[0;32m    340\u001B[0m \u001B[38;5;28;01mif\u001B[39;00m \u001B[38;5;28mtype\u001B[39m(a) \u001B[38;5;129;01mis\u001B[39;00m np\u001B[38;5;241m.\u001B[39mndarray \u001B[38;5;129;01mand\u001B[39;00m a\u001B[38;5;241m.\u001B[39mdtype \u001B[38;5;241m!=\u001B[39m np\u001B[38;5;241m.\u001B[39mobject_:\n\u001B[0;32m    341\u001B[0m     \u001B[38;5;66;03m# Fast, but not safe for subclasses of ndarray, or object arrays,\u001B[39;00m\n\u001B[0;32m    342\u001B[0m     \u001B[38;5;66;03m# which do not implement isnan (gh-9009), or fmin correctly (gh-8975)\u001B[39;00m\n\u001B[1;32m--> 343\u001B[0m     res \u001B[38;5;241m=\u001B[39m np\u001B[38;5;241m.\u001B[39mfmin\u001B[38;5;241m.\u001B[39mreduce(a, axis\u001B[38;5;241m=\u001B[39maxis, out\u001B[38;5;241m=\u001B[39mout, \u001B[38;5;241m*\u001B[39m\u001B[38;5;241m*\u001B[39mkwargs)\n\u001B[0;32m    344\u001B[0m     \u001B[38;5;28;01mif\u001B[39;00m np\u001B[38;5;241m.\u001B[39misnan(res)\u001B[38;5;241m.\u001B[39many():\n\u001B[0;32m    345\u001B[0m         warnings\u001B[38;5;241m.\u001B[39mwarn(\u001B[38;5;124m\"\u001B[39m\u001B[38;5;124mAll-NaN slice encountered\u001B[39m\u001B[38;5;124m\"\u001B[39m, \u001B[38;5;167;01mRuntimeWarning\u001B[39;00m,\n\u001B[0;32m    346\u001B[0m                       stacklevel\u001B[38;5;241m=\u001B[39m\u001B[38;5;241m3\u001B[39m)\n",
      "\u001B[1;31mValueError\u001B[0m: zero-size array to reduction operation fmin which has no identity"
     ]
    },
    {
     "data": {
      "text/plain": "<Figure size 1000x1000 with 0 Axes>"
     },
     "metadata": {},
     "output_type": "display_data"
    }
   ],
   "source": [
    "# Visualising with heatmap\n",
    "plt.style.use(\"seaborn\")\n",
    "plt.figure(figsize=(10, 10))\n",
    "heat_map = sns.heatmap(nobel_prize_winners, linewidths=1, annot=True)\n",
    "plt.title(\"HeatMap\")\n",
    "plt.show()"
   ],
   "metadata": {
    "collapsed": false,
    "pycharm": {
     "name": "#%%\n"
    }
   }
  },
  {
   "cell_type": "code",
   "execution_count": null,
   "outputs": [],
   "source": [],
   "metadata": {
    "collapsed": false,
    "pycharm": {
     "name": "#%%\n"
    }
   }
  }
 ],
 "metadata": {
  "kernelspec": {
   "display_name": "Python 3",
   "language": "python",
   "name": "python3"
  },
  "language_info": {
   "codemirror_mode": {
    "name": "ipython",
    "version": 2
   },
   "file_extension": ".py",
   "mimetype": "text/x-python",
   "name": "python",
   "nbconvert_exporter": "python",
   "pygments_lexer": "ipython2",
   "version": "2.7.6"
  }
 },
 "nbformat": 4,
 "nbformat_minor": 0
}