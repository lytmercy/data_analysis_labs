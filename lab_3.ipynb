{
 "cells": [
  {
   "cell_type": "markdown",
   "source": [
    "# Laboratory work #3"
   ],
   "metadata": {
    "collapsed": false
   }
  },
  {
   "cell_type": "markdown",
   "source": [
    "Import all significant libraries for this project."
   ],
   "metadata": {
    "collapsed": false
   }
  },
  {
   "cell_type": "code",
   "execution_count": 1,
   "metadata": {
    "collapsed": true
   },
   "outputs": [],
   "source": [
    "# Import TensorFlow & Keras Libraries\n",
    "import tensorflow as tf\n",
    "from keras.models import Sequential\n",
    "from keras.layers import Dense, Flatten, Input\n",
    "from keras.layers import Conv2D, MaxPool2D, Dropout, BatchNormalization\n",
    "from keras.layers import Rescaling, RandomFlip, RandomRotation, RandomZoom\n",
    "from keras.losses import CategoricalCrossentropy\n",
    "from keras.optimizers import Adam\n",
    "from keras.models import Model\n",
    "from keras.utils import image_dataset_from_directory\n",
    "from keras.layers import TextVectorization, Embedding, LSTM, SpatialDropout1D\n",
    "from keras.utils import to_categorical\n",
    "\n",
    "# Import scikit-learn libraries\n",
    "from sklearn.preprocessing import OneHotEncoder\n",
    "from sklearn.model_selection import train_test_split\n",
    "from sklearn.metrics import classification_report, confusion_matrix, accuracy_score\n",
    "\n",
    "# Import libraries for text cleaning\n",
    "import re\n",
    "import string\n",
    "import nltk\n",
    "from nltk.corpus import stopwords\n",
    "\n",
    "# Import other libraries\n",
    "import numpy as np\n",
    "import pandas as pd\n",
    "import matplotlib.pyplot as plt\n",
    "import pathlib"
   ]
  },
  {
   "cell_type": "code",
   "execution_count": 6,
   "outputs": [
    {
     "name": "stderr",
     "output_type": "stream",
     "text": [
      "[nltk_data] Error loading stopwords: <urlopen error [Errno 11001]\n",
      "[nltk_data]     getaddrinfo failed>\n"
     ]
    },
    {
     "data": {
      "text/plain": "False"
     },
     "execution_count": 6,
     "metadata": {},
     "output_type": "execute_result"
    }
   ],
   "source": [
    "nltk.download('stopwords')"
   ],
   "metadata": {
    "collapsed": false
   }
  },
  {
   "cell_type": "markdown",
   "source": [
    "## Exercise 1"
   ],
   "metadata": {
    "collapsed": false
   }
  },
  {
   "cell_type": "markdown",
   "source": [
    "#### Downloading Dataset\n",
    "Our dataset is Possible Asteroid Impacts with Earth (from [kaggle](https://www.kaggle.com/datasets/nasa/asteroid-impacts))"
   ],
   "metadata": {
    "collapsed": false
   }
  },
  {
   "cell_type": "markdown",
   "source": [
    "### Preprocessing Dataset"
   ],
   "metadata": {
    "collapsed": false
   }
  },
  {
   "cell_type": "code",
   "execution_count": 2,
   "outputs": [],
   "source": [
    "# Loading dataset to pandas DataFrame\n",
    "asteroid_df = pd.read_csv(\"datasets\\\\asteroid_dataset\\\\asteroid_classification.csv\")"
   ],
   "metadata": {
    "collapsed": false
   }
  },
  {
   "cell_type": "code",
   "execution_count": 3,
   "outputs": [
    {
     "name": "stdout",
     "output_type": "stream",
     "text": [
      "Index(['Object Classification', 'Orbit Axis (AU)', 'Orbit Eccentricity',\n",
      "       'Orbit Inclination (deg)', 'Orbital Period (yr)', 'Asteroid Magnitude'],\n",
      "      dtype='object')\n"
     ]
    }
   ],
   "source": [
    "# Drop unnecessary columns for analysis from the dataframe\n",
    "asteroid_df.drop([\"Object Name\", \"Epoch (TDB)\", \"Perihelion Argument (deg)\", \"Node Longitude (deg)\",\n",
    "                  \"Mean Anomoly (deg)\", \"Perihelion Distance (AU)\", \"Aphelion Distance (AU)\",\n",
    "                  \"Minimum Orbit Intersection Distance (AU)\", \"Orbital Reference\"], axis=1, inplace=True)\n",
    "print(asteroid_df.columns)"
   ],
   "metadata": {
    "collapsed": false
   }
  },
  {
   "cell_type": "code",
   "execution_count": 4,
   "outputs": [
    {
     "name": "stdout",
     "output_type": "stream",
     "text": [
      "<class 'pandas.core.frame.DataFrame'>\n",
      "Int64Index: 15634 entries, 0 to 15634\n",
      "Data columns (total 6 columns):\n",
      " #   Column                   Non-Null Count  Dtype  \n",
      "---  ------                   --------------  -----  \n",
      " 0   Object Classification    15634 non-null  object \n",
      " 1   Orbit Axis (AU)          15634 non-null  float64\n",
      " 2   Orbit Eccentricity       15634 non-null  float64\n",
      " 3   Orbit Inclination (deg)  15634 non-null  float64\n",
      " 4   Orbital Period (yr)      15634 non-null  float64\n",
      " 5   Asteroid Magnitude       15634 non-null  float64\n",
      "dtypes: float64(5), object(1)\n",
      "memory usage: 855.0+ KB\n"
     ]
    }
   ],
   "source": [
    "# Drop null values of dataframe as we have only one null value\n",
    "asteroid_df.dropna(inplace=True)\n",
    "asteroid_df.info()"
   ],
   "metadata": {
    "collapsed": false
   }
  },
  {
   "cell_type": "code",
   "execution_count": 5,
   "outputs": [],
   "source": [
    "# Change class names\n",
    "asteroid_df[\"Object Classification\"].mask(asteroid_df[\"Object Classification\"] == \"Apollo Asteroid\" ,\n",
    "                                          \"Apollo\", inplace=True)\n",
    "asteroid_df[\"Object Classification\"].mask(asteroid_df[\"Object Classification\"] == \"Aten Asteroid\",\n",
    "                                          \"Aten\", inplace=True)\n",
    "asteroid_df[\"Object Classification\"].mask(asteroid_df[\"Object Classification\"] == \"Amor Asteroid\",\n",
    "                                          \"Amor\", inplace=True)\n",
    "asteroid_df[\"Object Classification\"].mask(asteroid_df[\"Object Classification\"] == \"Apohele Asteroid\",\n",
    "                                          \"Apohele\", inplace=True)\n",
    "# Drop unnecessary class\n",
    "necessary_class = [\"Apollo\", \"Aten\", \"Amor\"]\n",
    "asteroid_df = asteroid_df[asteroid_df[\"Object Classification\"].isin(necessary_class)]"
   ],
   "metadata": {
    "collapsed": false
   }
  },
  {
   "cell_type": "code",
   "execution_count": 6,
   "outputs": [],
   "source": [
    "def remove_outliers(dataframe, features):\n",
    "    \"\"\"Function to remove the outliers;\n",
    "    :param dataframe: pandas DataFrame with data;\n",
    "    :param features: list with features from dataframe.\n",
    "    \"\"\"\n",
    "    # Copy dataframe to another variable\n",
    "    dataframe_copy = dataframe.copy()\n",
    "\n",
    "    # Iterate through features\n",
    "    for feature in features:\n",
    "        if dataframe[feature].dtype == object:\n",
    "            continue\n",
    "        # Calculate q1, q3 and iqr\n",
    "        q3 = dataframe[feature].quantile(0.75)\n",
    "        q1 = dataframe[feature].quantile(0.25)\n",
    "        iqr = q3 - q1\n",
    "\n",
    "        # Get local minimum and maximum\n",
    "        local_min = q1 - (1.5 * iqr)\n",
    "        local_max = q3 + (1.5 * iqr)\n",
    "\n",
    "        # Remove the outliers\n",
    "        dataframe_copy = dataframe_copy[(dataframe_copy[feature] >= local_min) &\n",
    "                                        (dataframe_copy[feature] <= local_max)]\n",
    "\n",
    "    return dataframe_copy"
   ],
   "metadata": {
    "collapsed": false
   }
  },
  {
   "cell_type": "code",
   "execution_count": 7,
   "outputs": [
    {
     "name": "stdout",
     "output_type": "stream",
     "text": [
      "['Object Classification', 'Orbit Axis (AU)', 'Orbit Eccentricity', 'Orbit Inclination (deg)', 'Orbital Period (yr)', 'Asteroid Magnitude']\n"
     ]
    }
   ],
   "source": [
    "# Extract features from the df\n",
    "asteroid_features = asteroid_df.columns.tolist()\n",
    "print(asteroid_features)"
   ],
   "metadata": {
    "collapsed": false
   }
  },
  {
   "cell_type": "code",
   "execution_count": 8,
   "outputs": [],
   "source": [
    "# Remove outliers from the dataframe\n",
    "asteroid_df = remove_outliers(asteroid_df, asteroid_features)"
   ],
   "metadata": {
    "collapsed": false
   }
  },
  {
   "cell_type": "code",
   "execution_count": 9,
   "outputs": [
    {
     "name": "stdout",
     "output_type": "stream",
     "text": [
      "Apollo    6651\n",
      "Amor      5686\n",
      "Aten       965\n",
      "Name: Object Classification, dtype: int64\n"
     ]
    }
   ],
   "source": [
    "# View count of class names\n",
    "print(asteroid_df.iloc[:, 0].value_counts())"
   ],
   "metadata": {
    "collapsed": false
   }
  },
  {
   "cell_type": "code",
   "execution_count": 10,
   "outputs": [],
   "source": [
    "# Define number of classes\n",
    "num_classes = len(necessary_class)"
   ],
   "metadata": {
    "collapsed": false
   }
  },
  {
   "cell_type": "code",
   "execution_count": 11,
   "outputs": [
    {
     "name": "stdout",
     "output_type": "stream",
     "text": [
      "  Object Classification  Orbit Axis (AU)  Orbit Eccentricity  \\\n",
      "1                  Amor         0.807646            0.590282   \n",
      "2                  Amor         0.758732            0.610967   \n",
      "4                  Amor         0.587438            0.469295   \n",
      "8                  Amor         0.570204            0.427279   \n",
      "9                Apollo         0.418531            0.469619   \n",
      "\n",
      "   Orbit Inclination (deg)  Orbital Period (yr)  Asteroid Magnitude  \n",
      "1                 0.296677             0.727119            0.492063  \n",
      "2                 0.239656             0.661017            0.425397  \n",
      "4                 0.304293             0.450847            0.561905  \n",
      "8                 0.216477             0.430508            0.419048  \n",
      "9                 0.240286             0.271186            0.451746  \n"
     ]
    }
   ],
   "source": [
    "# Normalise dataset\n",
    "norm_asteroid_df = asteroid_df.copy()\n",
    "# apply normalization techniques\n",
    "for column in norm_asteroid_df:\n",
    "    if norm_asteroid_df[column].dtype == object:\n",
    "        continue\n",
    "    norm_asteroid_df[column] = norm_asteroid_df[column] / norm_asteroid_df[column].abs().max()\n",
    "# View normalised dataset\n",
    "print(norm_asteroid_df.head())"
   ],
   "metadata": {
    "collapsed": false
   }
  },
  {
   "cell_type": "code",
   "execution_count": 12,
   "outputs": [
    {
     "name": "stdout",
     "output_type": "stream",
     "text": [
      "   Object_Classification  Orbit Axis (AU)  Orbit Eccentricity  \\\n",
      "1                      2         0.807646            0.590282   \n",
      "2                      2         0.758732            0.610967   \n",
      "4                      2         0.587438            0.469295   \n",
      "8                      2         0.570204            0.427279   \n",
      "9                      0         0.418531            0.469619   \n",
      "\n",
      "   Orbit Inclination (deg)  Orbital Period (yr)  Asteroid Magnitude  \n",
      "1                 0.296677             0.727119            0.492063  \n",
      "2                 0.239656             0.661017            0.425397  \n",
      "4                 0.304293             0.450847            0.561905  \n",
      "8                 0.216477             0.430508            0.419048  \n",
      "9                 0.240286             0.271186            0.451746  \n"
     ]
    }
   ],
   "source": [
    "# Edit name of column \"Object Classification\" with \"_\"\n",
    "# For using this name in next cell\n",
    "number_asteroid_df = norm_asteroid_df.copy()\n",
    "number_asteroid_df.rename(columns={\"Object Classification\": \"Object_Classification\"}, inplace=True)\n",
    "# Replace string class to numbers\n",
    "obj_class = {\"Apollo\": 0, \"Aten\": 1, \"Amor\": 2}\n",
    "number_asteroid_df.Object_Classification = [obj_class[item] for item in number_asteroid_df.Object_Classification]\n",
    "# View new dataset\n",
    "print(number_asteroid_df.head())"
   ],
   "metadata": {
    "collapsed": false
   }
  },
  {
   "cell_type": "code",
   "execution_count": 13,
   "outputs": [
    {
     "name": "stdout",
     "output_type": "stream",
     "text": [
      "   Orbit Axis (AU)  Orbit Eccentricity  Orbit Inclination (deg)  \\\n",
      "1         0.807646            0.590282                 0.296677   \n",
      "2         0.758732            0.610967                 0.239656   \n",
      "4         0.587438            0.469295                 0.304293   \n",
      "8         0.570204            0.427279                 0.216477   \n",
      "9         0.418531            0.469619                 0.240286   \n",
      "\n",
      "   Orbital Period (yr)  Asteroid Magnitude  Amor  Apollo  Aten  \n",
      "1             0.727119            0.492063   1.0     0.0   0.0  \n",
      "2             0.661017            0.425397   1.0     0.0   0.0  \n",
      "4             0.450847            0.561905   1.0     0.0   0.0  \n",
      "8             0.430508            0.419048   1.0     0.0   0.0  \n",
      "9             0.271186            0.451746   0.0     1.0   0.0  \n"
     ]
    }
   ],
   "source": [
    "# One-hot Encoding the Object Classification Feature\n",
    "one_hot = OneHotEncoder()\n",
    "# Copy our dataset\n",
    "onehot_asteroid_df = norm_asteroid_df.copy()\n",
    "# Fitting one-hot encoder\n",
    "encoded = one_hot.fit_transform(onehot_asteroid_df[[\"Object Classification\"]])\n",
    "onehot_asteroid_df[one_hot.categories_[0]] = encoded.toarray()\n",
    "# Drop unnecessary \"Object Classification\" feature\n",
    "onehot_asteroid_df.drop([\"Object Classification\"], axis=1, inplace=True)\n",
    "print(onehot_asteroid_df.head())"
   ],
   "metadata": {
    "collapsed": false
   }
  },
  {
   "cell_type": "code",
   "execution_count": 14,
   "outputs": [
    {
     "name": "stdout",
     "output_type": "stream",
     "text": [
      "Orbit Axis (AU)            float64\n",
      "Orbit Eccentricity         float64\n",
      "Orbit Inclination (deg)    float64\n",
      "Orbital Period (yr)        float64\n",
      "Asteroid Magnitude         float64\n",
      "Amor                         int32\n",
      "Apollo                       int32\n",
      "Aten                         int32\n",
      "dtype: object\n",
      "   Orbit Axis (AU)  Orbit Eccentricity  Orbit Inclination (deg)  \\\n",
      "1         0.807646            0.590282                 0.296677   \n",
      "2         0.758732            0.610967                 0.239656   \n",
      "4         0.587438            0.469295                 0.304293   \n",
      "8         0.570204            0.427279                 0.216477   \n",
      "9         0.418531            0.469619                 0.240286   \n",
      "\n",
      "   Orbital Period (yr)  Asteroid Magnitude  Amor  Apollo  Aten  \n",
      "1             0.727119            0.492063     1       0     0  \n",
      "2             0.661017            0.425397     1       0     0  \n",
      "4             0.450847            0.561905     1       0     0  \n",
      "8             0.430508            0.419048     1       0     0  \n",
      "9             0.271186            0.451746     0       1     0  \n"
     ]
    }
   ],
   "source": [
    "# Change data type in one-hot encoded column\n",
    "column_dtype_dict = {\"Amor\": int,\n",
    "                     \"Apollo\": int,\n",
    "                     \"Aten\": int}\n",
    "norm_onehot_asteroid_df = onehot_asteroid_df.astype(column_dtype_dict)\n",
    "print(norm_onehot_asteroid_df.dtypes)\n",
    "print(norm_onehot_asteroid_df.head())"
   ],
   "metadata": {
    "collapsed": false
   }
  },
  {
   "cell_type": "markdown",
   "source": [
    "### Split Dataset to Train & Test sets"
   ],
   "metadata": {
    "collapsed": false
   }
  },
  {
   "cell_type": "code",
   "execution_count": 14,
   "outputs": [],
   "source": [
    "# Split Categorical Dataset\n",
    "x = norm_asteroid_df.drop([\"Object Classification\"], axis=1)\n",
    "y = norm_asteroid_df[\"Object Classification\"]\n",
    "# Split to train test sets\n",
    "catg_X_train, catg_X_test, catg_y_train, catg_y_test = train_test_split(x, y, test_size=0.2)"
   ],
   "metadata": {
    "collapsed": false
   }
  },
  {
   "cell_type": "code",
   "execution_count": 15,
   "outputs": [],
   "source": [
    "# Split Numeric Dataset\n",
    "x = number_asteroid_df.drop([\"Object_Classification\"], axis=1)\n",
    "y = number_asteroid_df[\"Object_Classification\"]\n",
    "# Split to train test sets\n",
    "num_X_train, num_X_test, num_y_train, num_y_test = train_test_split(x, y, test_size=0.2)"
   ],
   "metadata": {
    "collapsed": false
   }
  },
  {
   "cell_type": "code",
   "execution_count": 15,
   "outputs": [],
   "source": [
    "# Split to train, validation and test sets\n",
    "oneh_train, oneh_valid, oneh_test = np.split(norm_onehot_asteroid_df.sample(frac=1), [int(0.8*len(norm_onehot_asteroid_df)), int(0.9*len(norm_onehot_asteroid_df))])"
   ],
   "metadata": {
    "collapsed": false
   }
  },
  {
   "cell_type": "code",
   "execution_count": 71,
   "outputs": [],
   "source": [
    "def df_to_dataset(dataframe, shuffle=True, batch_size=32):\n",
    "    \"\"\"\n",
    "    Function for converting dataframe var to tf dataset;\n",
    "    :param dataframe: pandas DataFrame object;\n",
    "    :param shuffle: bool for defining shuffle this dataset or not;\n",
    "    :param batch_size: size of batch for batching dataset;\n",
    "    :return: formed dataset for use in training.\n",
    "    \"\"\"\n",
    "    # Copy dataframe to new vars\n",
    "    df = dataframe.copy()\n",
    "    # Drop unnecessary columns for the data part and forme new label part\n",
    "    df = df.drop([\"Apollo\", \"Aten\", \"Amor\"], axis=1)\n",
    "    labels = dataframe[[\"Apollo\", \"Aten\", \"Amor\"]]\n",
    "    # Convert dataframe with data to tensor with concrete dtype -- float32\n",
    "    df = tf.constant(df, dtype=tf.float32)\n",
    "    # Make TensorFlow Dataset\n",
    "    ds = tf.data.Dataset.from_tensor_slices((df, labels))\n",
    "    # Optimize TF Dataset for loading to model\n",
    "    # Shuffle for training dataset\n",
    "    if shuffle:\n",
    "        ds = ds.shuffle(buffer_size=len(df))\n",
    "    # Batching dataset\n",
    "    ds = ds.batch(batch_size)\n",
    "    # Prefetching dataset for better performance on GPU\n",
    "    ds = ds.prefetch(batch_size)\n",
    "    return ds"
   ],
   "metadata": {
    "collapsed": false
   }
  },
  {
   "cell_type": "code",
   "execution_count": 72,
   "outputs": [],
   "source": [
    "# Define batch size\n",
    "batch_size = 32\n",
    "# Get TensorFlow Dataset object\n",
    "train_ds = df_to_dataset(oneh_train, batch_size=batch_size)\n",
    "valid_ds = df_to_dataset(oneh_valid, shuffle=False, batch_size=batch_size)\n",
    "test_ds = df_to_dataset(oneh_test, shuffle=False, batch_size=batch_size)"
   ],
   "metadata": {
    "collapsed": false
   }
  },
  {
   "cell_type": "code",
   "execution_count": 73,
   "outputs": [
    {
     "name": "stdout",
     "output_type": "stream",
     "text": [
      "(<tf.Tensor: shape=(32, 5), dtype=float32, numpy=\n",
      "array([[0.691573  , 0.74822235, 0.05346096, 0.5762712 , 0.86031747],\n",
      "       [0.74713033, 0.60881275, 0.23767088, 0.64576274, 0.6952381 ],\n",
      "       [0.61165017, 0.52908856, 0.23881587, 0.4779661 , 0.7777778 ],\n",
      "       [0.3599437 , 0.35811248, 0.3107529 , 0.21694915, 0.6920635 ],\n",
      "       [0.51602435, 0.45593622, 0.32116282, 0.37118644, 0.74920636],\n",
      "       [0.49398512, 0.4771601 , 0.10288757, 0.34745762, 0.85714287],\n",
      "       [0.34473047, 0.37319544, 0.02777941, 0.20338982, 0.768254  ],\n",
      "       [0.35721937, 0.37621203, 0.14390735, 0.21355931, 0.73968256],\n",
      "       [0.33420062, 0.5287654 , 0.13169159, 0.19322033, 0.71746033],\n",
      "       [0.5683063 , 0.38149107, 0.15756781, 0.42881355, 0.6507937 ],\n",
      "       [0.41482753, 0.6149537 , 0.16654329, 0.2677966 , 0.7714286 ],\n",
      "       [0.4875264 , 0.65513897, 0.69243616, 0.34067798, 0.7015873 ],\n",
      "       [0.51841193, 0.6356389 , 0.69989526, 0.37288135, 0.584127  ],\n",
      "       [0.33769017, 0.17420815, 0.6442519 , 0.19661017, 0.73650795],\n",
      "       [0.6810126 , 0.5727214 , 0.5112309 , 0.56271183, 0.72063494],\n",
      "       [0.76436377, 0.56453353, 0.31297627, 0.6694915 , 0.5714286 ],\n",
      "       [0.9188833 , 0.6579401 , 0.67119366, 0.88135594, 0.5460318 ],\n",
      "       [0.72086686, 0.6156001 , 0.2252963 , 0.6118644 , 0.7936508 ],\n",
      "       [0.4911996 , 0.50107735, 0.27538633, 0.34406778, 0.5936508 ],\n",
      "       [0.57901984, 0.6752855 , 0.02421637, 0.44067797, 0.75555557],\n",
      "       [0.54188985, 0.326546  , 0.79395336, 0.4       , 0.64444447],\n",
      "       [0.6080688 , 0.8165266 , 0.04215709, 0.47457626, 0.71746033],\n",
      "       [0.6171294 , 0.856281  , 0.09354324, 0.48474577, 0.8       ],\n",
      "       [0.50583124, 0.5985779 , 0.7416143 , 0.35932204, 0.6698413 ],\n",
      "       [0.52667665, 0.38181427, 0.90027076, 0.38305086, 0.584127  ],\n",
      "       [0.478374  , 0.2340013 , 0.54686385, 0.33050847, 0.64761907],\n",
      "       [0.4604671 , 0.40088344, 0.440695  , 0.31355932, 0.6603175 ],\n",
      "       [0.86047935, 0.679164  , 0.04443426, 0.7983051 , 0.7746032 ],\n",
      "       [0.5658575 , 0.4154277 , 0.5599531 , 0.42542374, 0.6603175 ],\n",
      "       [0.41403165, 0.13725491, 0.5191203 , 0.2661017 , 0.63809526],\n",
      "       [0.39539012, 0.5279035 , 0.1425472 , 0.24915254, 0.83492064],\n",
      "       [0.7672411 , 0.63520795, 0.30668524, 0.67288136, 0.784127  ]],\n",
      "      dtype=float32)>, <tf.Tensor: shape=(32, 3), dtype=int32, numpy=\n",
      "array([[1, 0, 0],\n",
      "       [0, 0, 1],\n",
      "       [1, 0, 0],\n",
      "       [1, 0, 0],\n",
      "       [1, 0, 0],\n",
      "       [1, 0, 0],\n",
      "       [1, 0, 0],\n",
      "       [1, 0, 0],\n",
      "       [1, 0, 0],\n",
      "       [0, 0, 1],\n",
      "       [1, 0, 0],\n",
      "       [1, 0, 0],\n",
      "       [1, 0, 0],\n",
      "       [1, 0, 0],\n",
      "       [0, 0, 1],\n",
      "       [0, 0, 1],\n",
      "       [0, 0, 1],\n",
      "       [1, 0, 0],\n",
      "       [1, 0, 0],\n",
      "       [1, 0, 0],\n",
      "       [0, 0, 1],\n",
      "       [1, 0, 0],\n",
      "       [1, 0, 0],\n",
      "       [1, 0, 0],\n",
      "       [0, 0, 1],\n",
      "       [0, 0, 1],\n",
      "       [1, 0, 0],\n",
      "       [0, 0, 1],\n",
      "       [0, 0, 1],\n",
      "       [0, 0, 1],\n",
      "       [1, 0, 0],\n",
      "       [0, 0, 1]])>)\n"
     ]
    }
   ],
   "source": [
    "# View new train dataset\n",
    "for onehot in train_ds.take(1):\n",
    "    print(onehot)"
   ],
   "metadata": {
    "collapsed": false
   }
  },
  {
   "cell_type": "markdown",
   "source": [
    "### Build model"
   ],
   "metadata": {
    "collapsed": false
   }
  },
  {
   "cell_type": "code",
   "execution_count": 2,
   "outputs": [],
   "source": [
    "def model_compile(model, loss_func, learn_rate=0.001):\n",
    "    \"\"\"\n",
    "    Help function for compiling model;\n",
    "    :param model: built model;\n",
    "    :param loss_func: loss function for compiling;\n",
    "    :param learn_rate: learning rate for optimizer.\n",
    "    \"\"\"\n",
    "    model.compile(loss=loss_func,\n",
    "                  optimizer=Adam(learning_rate=learn_rate),\n",
    "                  metrics=[\"accuracy\"])"
   ],
   "metadata": {
    "collapsed": false
   }
  },
  {
   "cell_type": "code",
   "execution_count": 75,
   "outputs": [],
   "source": [
    "# Set Input layer for input data\n",
    "input_shape = len(asteroid_features)-1\n",
    "inputs = Input(shape=(input_shape,), name=\"model_inputs\")"
   ],
   "metadata": {
    "collapsed": false
   }
  },
  {
   "cell_type": "code",
   "execution_count": 76,
   "outputs": [],
   "source": [
    "# Set Dense (Fully Connected) layer with 100 hidden unit and \"relu\" activation function\n",
    "x = Dense(100, activation=\"relu\")(inputs)\n",
    "# Set another Dense layer with 10 hidden unit and \"relu\" activation function\n",
    "x = Dense(10, activation=\"relu\")(x)\n",
    "# Set output layer with num_classes hidden unit and \"sigmoid\" activation function\n",
    "outputs = Dense(num_classes, activation=\"sigmoid\")(x)"
   ],
   "metadata": {
    "collapsed": false
   }
  },
  {
   "cell_type": "code",
   "execution_count": 77,
   "outputs": [],
   "source": [
    "# Define our model\n",
    "onehot_model = Model(inputs, outputs, name=\"onehot_model\")"
   ],
   "metadata": {
    "collapsed": false
   }
  },
  {
   "cell_type": "code",
   "execution_count": 78,
   "outputs": [
    {
     "name": "stdout",
     "output_type": "stream",
     "text": [
      "Model: \"onehot_model\"\n",
      "_________________________________________________________________\n",
      " Layer (type)                Output Shape              Param #   \n",
      "=================================================================\n",
      " model_inputs (InputLayer)   [(None, 5)]               0         \n",
      "                                                                 \n",
      " dense_19 (Dense)            (None, 100)               600       \n",
      "                                                                 \n",
      " dense_20 (Dense)            (None, 10)                1010      \n",
      "                                                                 \n",
      " dense_21 (Dense)            (None, 3)                 33        \n",
      "                                                                 \n",
      "=================================================================\n",
      "Total params: 1,643\n",
      "Trainable params: 1,643\n",
      "Non-trainable params: 0\n",
      "_________________________________________________________________\n"
     ]
    }
   ],
   "source": [
    "# View summary of the model\n",
    "onehot_model.summary()"
   ],
   "metadata": {
    "collapsed": false
   }
  },
  {
   "cell_type": "code",
   "execution_count": 79,
   "outputs": [],
   "source": [
    "# Compile the model\n",
    "model_compile(onehot_model, CategoricalCrossentropy())"
   ],
   "metadata": {
    "collapsed": false
   }
  },
  {
   "cell_type": "markdown",
   "source": [
    "### Fit model"
   ],
   "metadata": {
    "collapsed": false
   }
  },
  {
   "cell_type": "code",
   "execution_count": 80,
   "outputs": [
    {
     "name": "stdout",
     "output_type": "stream",
     "text": [
      "Epoch 1/10\n",
      "333/333 [==============================] - 3s 4ms/step - loss: 0.7306 - accuracy: 0.6950 - val_loss: 0.5407 - val_accuracy: 0.7917\n",
      "Epoch 2/10\n",
      "333/333 [==============================] - 1s 4ms/step - loss: 0.4504 - accuracy: 0.8159 - val_loss: 0.3928 - val_accuracy: 0.8098\n",
      "Epoch 3/10\n",
      "333/333 [==============================] - 1s 4ms/step - loss: 0.3297 - accuracy: 0.8551 - val_loss: 0.2794 - val_accuracy: 0.9038\n",
      "Epoch 4/10\n",
      "333/333 [==============================] - 1s 4ms/step - loss: 0.2540 - accuracy: 0.9100 - val_loss: 0.2196 - val_accuracy: 0.9308\n",
      "Epoch 5/10\n",
      "333/333 [==============================] - 1s 4ms/step - loss: 0.2061 - accuracy: 0.9354 - val_loss: 0.1861 - val_accuracy: 0.9338\n",
      "Epoch 6/10\n",
      "333/333 [==============================] - 1s 4ms/step - loss: 0.1825 - accuracy: 0.9387 - val_loss: 0.1567 - val_accuracy: 0.9549\n",
      "Epoch 7/10\n",
      "333/333 [==============================] - 1s 4ms/step - loss: 0.1591 - accuracy: 0.9492 - val_loss: 0.1404 - val_accuracy: 0.9624\n",
      "Epoch 8/10\n",
      "333/333 [==============================] - 1s 4ms/step - loss: 0.1468 - accuracy: 0.9509 - val_loss: 0.1396 - val_accuracy: 0.9504\n",
      "Epoch 9/10\n",
      "333/333 [==============================] - 1s 4ms/step - loss: 0.1376 - accuracy: 0.9524 - val_loss: 0.1197 - val_accuracy: 0.9639\n",
      "Epoch 10/10\n",
      "333/333 [==============================] - 1s 4ms/step - loss: 0.1278 - accuracy: 0.9579 - val_loss: 0.1168 - val_accuracy: 0.9632\n"
     ]
    }
   ],
   "source": [
    "# Fitting the model\n",
    "onehot_history = onehot_model.fit(train_ds,\n",
    "                                  batch_size=batch_size,\n",
    "                                  epochs=10,\n",
    "                                  validation_data=valid_ds,\n",
    "                                  use_multiprocessing=True)"
   ],
   "metadata": {
    "collapsed": false
   }
  },
  {
   "cell_type": "markdown",
   "source": [
    "### Evaluate model"
   ],
   "metadata": {
    "collapsed": false
   }
  },
  {
   "cell_type": "code",
   "execution_count": 82,
   "outputs": [
    {
     "name": "stdout",
     "output_type": "stream",
     "text": [
      "42/42 [==============================] - 0s 3ms/step - loss: 0.1219 - accuracy: 0.9609\n",
      "Model loss on the test set: 0.12188560515642166\n",
      "Model accuracy on the test set = 0.960931658744812\n"
     ]
    }
   ],
   "source": [
    "loss, accuracy = onehot_model.evaluate(test_ds)\n",
    "print(f\"Model loss on the test set: {loss}\")\n",
    "print(f\"Model accuracy on the test set = {accuracy}\")"
   ],
   "metadata": {
    "collapsed": false
   }
  },
  {
   "cell_type": "markdown",
   "source": [
    "Last best result on this data is that:\n",
    "**model** - GridSearch(SVM)\n",
    "**result** - accuracy = 0.99\n",
    "\n",
    "Now result is\n",
    "**model** - Fully connected feed-forward network\n",
    "**result** - accuracy = 0.96\n",
    "\n",
    "In summary, we can say model (GridSearch(SVM)) have best fit on this data!"
   ],
   "metadata": {
    "collapsed": false
   }
  },
  {
   "cell_type": "markdown",
   "source": [
    "## Exercise 2"
   ],
   "metadata": {
    "collapsed": false
   }
  },
  {
   "cell_type": "markdown",
   "source": [
    "#### Downloading Dataset\n",
    "Our dataset is Food Classification Dataset (from [kaggle](https://www.kaggle.com/datasets/kmader/food41))"
   ],
   "metadata": {
    "collapsed": false
   }
  },
  {
   "cell_type": "markdown",
   "source": [
    "### Preprocessing Dataset"
   ],
   "metadata": {
    "collapsed": false
   }
  },
  {
   "cell_type": "code",
   "execution_count": 22,
   "outputs": [],
   "source": [
    "def prepare_ds(dataset, shuffle=False, batch=32):\n",
    "    \"\"\"\n",
    "    Help function for prepare dataset for better performance;\n",
    "    :param dataset: TensorFlow Dataset object;\n",
    "    :param shuffle: bool for define make shuffle or not;\n",
    "    :param batch: size of batch in dataset;\n",
    "    :return: normalized and prepared dataset.\n",
    "    \"\"\"\n",
    "    # Shuffling dataset\n",
    "    if shuffle:\n",
    "        dataset.shuffle(buffer_size=len(dataset))\n",
    "    # Batching dataset\n",
    "    dataset.batch(batch)\n",
    "    # Augmenting dataset\n",
    "    norm_layer = Rescaling(1./255)\n",
    "    ds = dataset.map(lambda x, y: (norm_layer(x), y), num_parallel_calls=tf.data.AUTOTUNE)\n",
    "\n",
    "    image_batch, labels_batch = next(iter(ds))\n",
    "    first_image = image_batch[0]\n",
    "    print(np.min(first_image), np.max(first_image))\n",
    "\n",
    "    return ds.prefetch(buffer_size=tf.data.AUTOTUNE)\n",
    "\n",
    "\n",
    "def plot_loss_curves(history):\n",
    "    \"\"\"\n",
    "    Function for plot the validation and training data separately\n",
    "    :param history: history of loss curves from fitted model.\n",
    "    :return: separate loss curves for training and validation metrics.\n",
    "    \"\"\"\n",
    "    loss = history.history['loss']\n",
    "    val_loss = history.history['val_loss']\n",
    "\n",
    "    accuracy = history.history['accuracy']\n",
    "    val_accuracy = history.history['val_accuracy']\n",
    "\n",
    "    epochs = range(len(history.history['loss']))\n",
    "\n",
    "    # Plot loss\n",
    "    plt.plot(epochs, loss, label='training_loss')\n",
    "    plt.plot(epochs, val_loss, label='val_loss')\n",
    "    plt.title('Loss')\n",
    "    plt.xlabel('Epochs')\n",
    "    plt.legend()\n",
    "    plt.show()\n",
    "\n",
    "    # Plot accuracy\n",
    "    plt.figure()\n",
    "    plt.plot(epochs, accuracy, label='training_accuracy')\n",
    "    plt.plot(epochs, val_accuracy, label='val_accuracy')\n",
    "    plt.title('Accuracy')\n",
    "    plt.xlabel('Epochs')\n",
    "    plt.legend()\n",
    "    plt.show()\n"
   ],
   "metadata": {
    "collapsed": false
   }
  },
  {
   "cell_type": "code",
   "execution_count": 4,
   "outputs": [],
   "source": [
    "# Define train and test dir\n",
    "train_dir = pathlib.Path(\"datasets\\\\5_food_classes_all_data\\\\train\\\\\")\n",
    "test_dir = pathlib.Path(\"datasets\\\\5_food_classes_all_data\\\\test\\\\\")"
   ],
   "metadata": {
    "collapsed": false
   }
  },
  {
   "cell_type": "code",
   "execution_count": 5,
   "outputs": [
    {
     "data": {
      "text/plain": "WindowsPath('datasets/5_food_classes_all_data/train')"
     },
     "execution_count": 5,
     "metadata": {},
     "output_type": "execute_result"
    }
   ],
   "source": [
    "train_dir"
   ],
   "metadata": {
    "collapsed": false
   }
  },
  {
   "cell_type": "code",
   "execution_count": 6,
   "outputs": [
    {
     "name": "stdout",
     "output_type": "stream",
     "text": [
      "Found 3750 files belonging to 5 classes.\n",
      "Using 3000 files for training.\n",
      "Found 3750 files belonging to 5 classes.\n",
      "Using 750 files for validation.\n",
      "Found 1250 files belonging to 5 classes.\n"
     ]
    }
   ],
   "source": [
    "# Define some hyperparameters\n",
    "batch_size = 28\n",
    "image_size = (256, 256)\n",
    "random_seed = 17\n",
    "# Set train and test datasets\n",
    "train_ds = image_dataset_from_directory(train_dir,\n",
    "                                        label_mode=\"categorical\",\n",
    "                                        validation_split=0.2,\n",
    "                                        subset=\"training\",\n",
    "                                        seed=random_seed,\n",
    "                                        image_size=image_size)\n",
    "val_ds = image_dataset_from_directory(train_dir,\n",
    "                                      label_mode=\"categorical\",\n",
    "                                      validation_split=0.2,\n",
    "                                      subset=\"validation\",\n",
    "                                      seed=random_seed,\n",
    "                                      image_size=image_size)\n",
    "test_ds = image_dataset_from_directory(test_dir,\n",
    "                                       label_mode=\"categorical\",\n",
    "                                       # validation_split=0.5,\n",
    "                                       # subset=\"training\",\n",
    "                                       seed=random_seed,\n",
    "                                       image_size=image_size)"
   ],
   "metadata": {
    "collapsed": false
   }
  },
  {
   "cell_type": "code",
   "execution_count": 7,
   "outputs": [
    {
     "data": {
      "text/plain": "<BatchDataset element_spec=(TensorSpec(shape=(None, 256, 256, 3), dtype=tf.float32, name=None), TensorSpec(shape=(None, 5), dtype=tf.float32, name=None))>"
     },
     "execution_count": 7,
     "metadata": {},
     "output_type": "execute_result"
    }
   ],
   "source": [
    "# View on train Dataset\n",
    "train_ds"
   ],
   "metadata": {
    "collapsed": false
   }
  },
  {
   "cell_type": "code",
   "execution_count": 8,
   "outputs": [
    {
     "data": {
      "text/plain": "(<tf.Tensor: shape=(28, 256, 256, 3), dtype=float32, numpy=\n array([[[[2.4700000e+02, 2.5400000e+02, 2.4700000e+02],\n          [2.4700000e+02, 2.5400000e+02, 2.4700000e+02],\n          [2.4700000e+02, 2.5400000e+02, 2.4700000e+02],\n          ...,\n          [2.4725000e+02, 1.4975000e+02, 4.5000000e+00],\n          [2.4525000e+02, 1.5450000e+02, 2.7500000e+00],\n          [2.4025000e+02, 1.5775000e+02, 7.5000000e-01]],\n \n         [[2.4700000e+02, 2.5400000e+02, 2.4700000e+02],\n          [2.4700000e+02, 2.5400000e+02, 2.4700000e+02],\n          [2.4700000e+02, 2.5400000e+02, 2.4700000e+02],\n          ...,\n          [2.5350000e+02, 1.6075000e+02, 1.1500000e+01],\n          [2.5375000e+02, 1.6400000e+02, 1.1500000e+01],\n          [2.5250000e+02, 1.6575000e+02, 8.2500000e+00]],\n \n         [[2.4700000e+02, 2.5400000e+02, 2.4700000e+02],\n          [2.4700000e+02, 2.5400000e+02, 2.4700000e+02],\n          [2.4700000e+02, 2.5400000e+02, 2.4700000e+02],\n          ...,\n          [2.4675000e+02, 1.6300000e+02, 4.0000000e+00],\n          [2.5125000e+02, 1.6300000e+02, 6.0000000e+00],\n          [2.5450000e+02, 1.6575000e+02, 8.7500000e+00]],\n \n         ...,\n \n         [[2.2125000e+02, 2.3625000e+02, 2.4325000e+02],\n          [2.2050000e+02, 2.3550000e+02, 2.4250000e+02],\n          [2.2200000e+02, 2.3500000e+02, 2.4300000e+02],\n          ...,\n          [2.3550000e+02, 2.3150000e+02, 2.2850000e+02],\n          [2.3500000e+02, 2.3000000e+02, 2.2700000e+02],\n          [2.3675000e+02, 2.3175000e+02, 2.2875000e+02]],\n \n         [[2.1650000e+02, 2.3350000e+02, 2.4050000e+02],\n          [2.1825000e+02, 2.3525000e+02, 2.4225000e+02],\n          [2.2125000e+02, 2.3625000e+02, 2.4325000e+02],\n          ...,\n          [2.3550000e+02, 2.3050000e+02, 2.2750000e+02],\n          [2.3450000e+02, 2.2950000e+02, 2.2650000e+02],\n          [2.3600000e+02, 2.3100000e+02, 2.2800000e+02]],\n \n         [[2.1700000e+02, 2.3400000e+02, 2.4100000e+02],\n          [2.1925000e+02, 2.3625000e+02, 2.4325000e+02],\n          [2.1825000e+02, 2.3525000e+02, 2.4225000e+02],\n          ...,\n          [2.3400000e+02, 2.2900000e+02, 2.2600000e+02],\n          [2.3250000e+02, 2.2750000e+02, 2.2450000e+02],\n          [2.3400000e+02, 2.2900000e+02, 2.2600000e+02]]],\n \n \n        [[[6.1625000e+01, 6.3625000e+01, 4.1625000e+01],\n          [2.2687500e+01, 2.4687500e+01, 5.9687500e+00],\n          [8.8125000e+00, 1.0812500e+01, 1.8750000e-01],\n          ...,\n          [1.9606250e+02, 1.7106250e+02, 8.9062500e+01],\n          [1.9112500e+02, 1.6612500e+02, 8.4125000e+01],\n          [1.9015625e+02, 1.6515625e+02, 8.3156250e+01]],\n \n         [[9.6218750e+01, 9.7843750e+01, 7.5468750e+01],\n          [5.1937500e+01, 5.3562500e+01, 3.1187500e+01],\n          [2.5500000e+01, 2.7500000e+01, 7.2187500e+00],\n          ...,\n          [1.9737500e+02, 1.7237500e+02, 9.0375000e+01],\n          [1.9346875e+02, 1.6846875e+02, 8.6468750e+01],\n          [1.9296875e+02, 1.6796875e+02, 8.5968750e+01]],\n \n         [[1.0565625e+02, 1.0565625e+02, 8.1656250e+01],\n          [6.9781250e+01, 6.9781250e+01, 4.5781250e+01],\n          [5.0156250e+01, 5.1687500e+01, 3.0187500e+01],\n          ...,\n          [1.9962500e+02, 1.7462500e+02, 9.2625000e+01],\n          [1.9581250e+02, 1.7081250e+02, 8.8812500e+01],\n          [1.9515625e+02, 1.7015625e+02, 8.8156250e+01]],\n \n         ...,\n \n         [[7.9343750e+01, 5.0343750e+01, 8.3437500e+00],\n          [7.8656250e+01, 4.9656250e+01, 7.6562500e+00],\n          [7.8312500e+01, 4.9312500e+01, 7.0000000e+00],\n          ...,\n          [1.7787500e+02, 1.5687500e+02, 9.3875000e+01],\n          [1.7668750e+02, 1.5468750e+02, 9.4687500e+01],\n          [1.7684375e+02, 1.5484375e+02, 9.4843750e+01]],\n \n         [[8.1937500e+01, 5.2937500e+01, 1.2562500e+01],\n          [7.9312500e+01, 5.0312500e+01, 9.9375000e+00],\n          [7.8812500e+01, 4.9812500e+01, 7.8125000e+00],\n          ...,\n          [1.7809375e+02, 1.5709375e+02, 9.4093750e+01],\n          [1.7781250e+02, 1.5581250e+02, 9.5812500e+01],\n          [1.7781250e+02, 1.5581250e+02, 9.5812500e+01]],\n \n         [[8.4843750e+01, 5.5843750e+01, 1.5843750e+01],\n          [8.0906250e+01, 5.1906250e+01, 1.1906250e+01],\n          [8.0406250e+01, 5.1406250e+01, 9.4062500e+00],\n          ...,\n          [1.7471875e+02, 1.5371875e+02, 9.0718750e+01],\n          [1.7753125e+02, 1.5553125e+02, 9.5531250e+01],\n          [1.7940625e+02, 1.5740625e+02, 9.7406250e+01]]],\n \n \n        [[[2.4875000e+02, 2.3175000e+02, 2.1375000e+02],\n          [2.4725000e+02, 2.3025000e+02, 2.1225000e+02],\n          [2.4900000e+02, 2.3200000e+02, 2.1400000e+02],\n          ...,\n          [2.4600000e+02, 2.3100000e+02, 2.1200000e+02],\n          [2.4550000e+02, 2.2850000e+02, 2.0850000e+02],\n          [2.4800000e+02, 2.3000000e+02, 2.0800000e+02]],\n \n         [[2.4625000e+02, 2.2925000e+02, 2.1125000e+02],\n          [2.4875000e+02, 2.3175000e+02, 2.1375000e+02],\n          [2.4975000e+02, 2.3275000e+02, 2.1475000e+02],\n          ...,\n          [2.4725000e+02, 2.3025000e+02, 2.1225000e+02],\n          [2.4700000e+02, 2.2875000e+02, 2.0950000e+02],\n          [2.4675000e+02, 2.2875000e+02, 2.0725000e+02]],\n \n         [[2.4775000e+02, 2.3075000e+02, 2.1275000e+02],\n          [2.4675000e+02, 2.2975000e+02, 2.1175000e+02],\n          [2.4750000e+02, 2.3050000e+02, 2.1250000e+02],\n          ...,\n          [2.4625000e+02, 2.2925000e+02, 2.1275000e+02],\n          [2.4925000e+02, 2.3050000e+02, 2.1275000e+02],\n          [2.4875000e+02, 2.3075000e+02, 2.1075000e+02]],\n \n         ...,\n \n         [[5.8750000e+01, 7.6250000e+01, 1.4500000e+01],\n          [5.4500000e+01, 7.2750000e+01, 1.2500000e+01],\n          [5.1750000e+01, 7.0500000e+01, 1.2250000e+01],\n          ...,\n          [2.0900000e+02, 1.7775000e+02, 1.6125000e+02],\n          [2.1625000e+02, 1.8650000e+02, 1.7300000e+02],\n          [2.1725000e+02, 1.8900000e+02, 1.7650000e+02]],\n \n         [[6.2750000e+01, 7.2250000e+01, 1.7000000e+01],\n          [5.6000000e+01, 6.7250000e+01, 1.3500000e+01],\n          [5.1000000e+01, 6.3250000e+01, 1.2250000e+01],\n          ...,\n          [2.0750000e+02, 1.7850000e+02, 1.6950000e+02],\n          [2.1250000e+02, 1.8325000e+02, 1.7825000e+02],\n          [2.1550000e+02, 1.8725000e+02, 1.8375000e+02]],\n \n         [[5.9250000e+01, 6.4000000e+01, 1.2750000e+01],\n          [5.8500000e+01, 6.5750000e+01, 1.4750000e+01],\n          [4.5000000e+01, 5.3250000e+01, 6.0000000e+00],\n          ...,\n          [2.0525000e+02, 1.7725000e+02, 1.7200000e+02],\n          [2.0975000e+02, 1.8175000e+02, 1.8025000e+02],\n          [2.1675000e+02, 1.8825000e+02, 1.8875000e+02]]],\n \n \n        ...,\n \n \n        [[[2.4275000e+02, 2.4262500e+02, 2.0575000e+02],\n          [2.2787500e+02, 2.3850000e+02, 1.8200000e+02],\n          [2.2112500e+02, 2.3512500e+02, 1.7400000e+02],\n          ...,\n          [4.6375000e+01, 7.2375000e+01, 6.9375000e+01],\n          [4.4625000e+01, 7.3625000e+01, 6.9625000e+01],\n          [4.8000000e+01, 7.7000000e+01, 7.3000000e+01]],\n \n         [[2.3187500e+02, 2.2950000e+02, 1.8250000e+02],\n          [2.2525000e+02, 2.3400000e+02, 1.7150000e+02],\n          [2.2075000e+02, 2.3400000e+02, 1.7062500e+02],\n          ...,\n          [5.4250000e+01, 8.0250000e+01, 7.7250000e+01],\n          [4.9125000e+01, 7.8125000e+01, 7.4125000e+01],\n          [4.8750000e+01, 7.7750000e+01, 7.3750000e+01]],\n \n         [[2.1312500e+02, 2.0812500e+02, 1.4900000e+02],\n          [1.7075000e+02, 1.7525000e+02, 1.0712500e+02],\n          [2.0150000e+02, 2.1337500e+02, 1.4937500e+02],\n          ...,\n          [5.9000000e+01, 8.5000000e+01, 8.2500000e+01],\n          [5.2375000e+01, 8.0625000e+01, 7.7375000e+01],\n          [5.1500000e+01, 7.9750000e+01, 7.6500000e+01]],\n \n         ...,\n \n         [[9.7875000e+01, 1.0237500e+02, 9.5375000e+01],\n          [1.0150000e+02, 1.0500000e+02, 9.7625000e+01],\n          [1.0625000e+02, 1.0725000e+02, 9.9250000e+01],\n          ...,\n          [5.3625000e+01, 4.0625000e+01, 2.1625000e+01],\n          [5.0000000e+01, 3.9000000e+01, 2.1000000e+01],\n          [4.7875000e+01, 3.5875000e+01, 1.9875000e+01]],\n \n         [[9.5250000e+01, 1.0075000e+02, 9.3500000e+01],\n          [9.7875000e+01, 1.0287500e+02, 9.5875000e+01],\n          [1.0237500e+02, 1.0462500e+02, 9.6500000e+01],\n          ...,\n          [5.1875000e+01, 3.8875000e+01, 1.9875000e+01],\n          [4.8125000e+01, 3.6625000e+01, 1.8875000e+01],\n          [4.5750000e+01, 3.3750000e+01, 1.7750000e+01]],\n \n         [[9.4500000e+01, 1.0150000e+02, 9.3500000e+01],\n          [9.7125000e+01, 1.0212500e+02, 9.5125000e+01],\n          [1.0012500e+02, 1.0312500e+02, 9.6125000e+01],\n          ...,\n          [5.1875000e+01, 3.8875000e+01, 1.9875000e+01],\n          [4.8125000e+01, 3.5125000e+01, 1.8125000e+01],\n          [4.4625000e+01, 3.2625000e+01, 1.6625000e+01]]],\n \n \n        [[[9.7750000e+01, 8.7750000e+01, 7.8750000e+01],\n          [9.8250000e+01, 8.8250000e+01, 7.9250000e+01],\n          [9.5750000e+01, 8.4750000e+01, 7.8750000e+01],\n          ...,\n          [1.0600000e+02, 1.1400000e+02, 1.1700000e+02],\n          [1.0575000e+02, 1.1375000e+02, 1.1675000e+02],\n          [1.0925000e+02, 1.1725000e+02, 1.2025000e+02]],\n \n         [[9.6000000e+01, 8.6000000e+01, 7.7000000e+01],\n          [9.9000000e+01, 8.9000000e+01, 8.0000000e+01],\n          [9.9000000e+01, 8.8000000e+01, 8.2000000e+01],\n          ...,\n          [1.0275000e+02, 1.1075000e+02, 1.1375000e+02],\n          [1.0425000e+02, 1.1225000e+02, 1.1525000e+02],\n          [1.0625000e+02, 1.1425000e+02, 1.1725000e+02]],\n \n         [[9.7750000e+01, 8.6750000e+01, 8.0750000e+01],\n          [9.8500000e+01, 8.7500000e+01, 8.1500000e+01],\n          [9.9750000e+01, 8.9750000e+01, 8.0750000e+01],\n          ...,\n          [1.0600000e+02, 1.1400000e+02, 1.1700000e+02],\n          [1.0700000e+02, 1.1500000e+02, 1.1800000e+02],\n          [1.0575000e+02, 1.1375000e+02, 1.1675000e+02]],\n \n         ...,\n \n         [[1.7175000e+02, 1.3875000e+02, 9.5750000e+01],\n          [1.7100000e+02, 1.3800000e+02, 9.5000000e+01],\n          [1.7175000e+02, 1.3875000e+02, 9.5750000e+01],\n          ...,\n          [1.7300000e+02, 1.4300000e+02, 1.0700000e+02],\n          [1.7075000e+02, 1.4075000e+02, 1.0475000e+02],\n          [1.6575000e+02, 1.3575000e+02, 9.9750000e+01]],\n \n         [[1.7100000e+02, 1.3800000e+02, 9.5000000e+01],\n          [1.7075000e+02, 1.3775000e+02, 9.4750000e+01],\n          [1.7175000e+02, 1.3875000e+02, 9.5750000e+01],\n          ...,\n          [1.7075000e+02, 1.4075000e+02, 1.0475000e+02],\n          [1.6800000e+02, 1.3800000e+02, 1.0200000e+02],\n          [1.5975000e+02, 1.2975000e+02, 9.3750000e+01]],\n \n         [[1.7075000e+02, 1.3775000e+02, 9.4750000e+01],\n          [1.7150000e+02, 1.3850000e+02, 9.5500000e+01],\n          [1.7225000e+02, 1.3925000e+02, 9.6250000e+01],\n          ...,\n          [1.6600000e+02, 1.3600000e+02, 1.0200000e+02],\n          [1.6300000e+02, 1.3300000e+02, 9.9000000e+01],\n          [1.5500000e+02, 1.2500000e+02, 9.1000000e+01]]],\n \n \n        [[[4.9000000e+01, 3.7000000e+01, 3.7000000e+01],\n          [4.9000000e+01, 3.7000000e+01, 3.7000000e+01],\n          [4.9000000e+01, 3.7000000e+01, 3.7000000e+01],\n          ...,\n          [5.5500000e+01, 3.5500000e+01, 3.7500000e+01],\n          [5.5500000e+01, 3.5500000e+01, 3.7500000e+01],\n          [5.5500000e+01, 3.5500000e+01, 3.7500000e+01]],\n \n         [[4.9000000e+01, 3.7000000e+01, 3.7000000e+01],\n          [4.9000000e+01, 3.7000000e+01, 3.7000000e+01],\n          [4.9000000e+01, 3.7000000e+01, 3.7000000e+01],\n          ...,\n          [5.4000000e+01, 3.4000000e+01, 3.6000000e+01],\n          [5.4000000e+01, 3.4000000e+01, 3.6000000e+01],\n          [5.4000000e+01, 3.4000000e+01, 3.6000000e+01]],\n \n         [[4.9000000e+01, 3.7000000e+01, 3.7000000e+01],\n          [4.9000000e+01, 3.7000000e+01, 3.7000000e+01],\n          [4.9000000e+01, 3.7000000e+01, 3.7000000e+01],\n          ...,\n          [5.5000000e+01, 3.5000000e+01, 3.7000000e+01],\n          [5.5000000e+01, 3.5000000e+01, 3.7000000e+01],\n          [5.5000000e+01, 3.5000000e+01, 3.7000000e+01]],\n \n         ...,\n \n         [[4.9000000e+01, 3.7000000e+01, 3.7000000e+01],\n          [4.9000000e+01, 3.7000000e+01, 3.7000000e+01],\n          [4.9000000e+01, 3.7000000e+01, 3.7000000e+01],\n          ...,\n          [2.1375000e+02, 1.6925000e+02, 7.8500000e+01],\n          [2.0875000e+02, 1.6600000e+02, 7.6250000e+01],\n          [2.1175000e+02, 1.6925000e+02, 8.0750000e+01]],\n \n         [[4.9000000e+01, 3.7000000e+01, 3.7000000e+01],\n          [4.9000000e+01, 3.7000000e+01, 3.7000000e+01],\n          [4.9000000e+01, 3.7000000e+01, 3.7000000e+01],\n          ...,\n          [1.9825000e+02, 1.6325000e+02, 8.4750000e+01],\n          [1.9500000e+02, 1.6225000e+02, 8.7000000e+01],\n          [1.9225000e+02, 1.5925000e+02, 8.8000000e+01]],\n \n         [[4.9000000e+01, 3.7000000e+01, 3.7000000e+01],\n          [4.9000000e+01, 3.7000000e+01, 3.7000000e+01],\n          [4.9000000e+01, 3.7000000e+01, 3.7000000e+01],\n          ...,\n          [1.7150000e+02, 1.4325000e+02, 7.6750000e+01],\n          [1.3750000e+02, 1.1125000e+02, 5.2500000e+01],\n          [1.0750000e+02, 8.3250000e+01, 2.8750000e+01]]]], dtype=float32)>,\n <tf.Tensor: shape=(28, 5), dtype=float32, numpy=\n array([[0., 0., 1., 0., 0.],\n        [0., 0., 1., 0., 0.],\n        [0., 1., 0., 0., 0.],\n        [0., 0., 0., 1., 0.],\n        [0., 0., 0., 0., 1.],\n        [1., 0., 0., 0., 0.],\n        [1., 0., 0., 0., 0.],\n        [0., 1., 0., 0., 0.],\n        [1., 0., 0., 0., 0.],\n        [0., 1., 0., 0., 0.],\n        [0., 0., 0., 0., 1.],\n        [0., 0., 0., 1., 0.],\n        [0., 0., 0., 0., 1.],\n        [0., 0., 1., 0., 0.],\n        [1., 0., 0., 0., 0.],\n        [0., 0., 0., 1., 0.],\n        [0., 0., 0., 1., 0.],\n        [1., 0., 0., 0., 0.],\n        [0., 1., 0., 0., 0.],\n        [1., 0., 0., 0., 0.],\n        [1., 0., 0., 0., 0.],\n        [1., 0., 0., 0., 0.],\n        [0., 0., 1., 0., 0.],\n        [0., 0., 1., 0., 0.],\n        [0., 0., 0., 1., 0.],\n        [1., 0., 0., 0., 0.],\n        [1., 0., 0., 0., 0.],\n        [0., 0., 0., 0., 1.]], dtype=float32)>)"
     },
     "execution_count": 8,
     "metadata": {},
     "output_type": "execute_result"
    }
   ],
   "source": [
    "# View on train Dataset\n",
    "next(iter(train_ds))"
   ],
   "metadata": {
    "collapsed": false
   }
  },
  {
   "cell_type": "code",
   "execution_count": 9,
   "outputs": [
    {
     "data": {
      "text/plain": "['chicken_curry', 'fried_rice', 'grilled_salmon', 'hamburger', 'pizza']"
     },
     "execution_count": 9,
     "metadata": {},
     "output_type": "execute_result"
    }
   ],
   "source": [
    "train_ds.class_names"
   ],
   "metadata": {
    "collapsed": false
   }
  },
  {
   "cell_type": "code",
   "execution_count": 7,
   "outputs": [
    {
     "name": "stdout",
     "output_type": "stream",
     "text": [
      "5\n"
     ]
    }
   ],
   "source": [
    "# Preprocess number of classes\n",
    "num_image_classes = len(train_ds.class_names)\n",
    "print(num_image_classes)"
   ],
   "metadata": {
    "collapsed": false
   }
  },
  {
   "cell_type": "code",
   "execution_count": 8,
   "outputs": [
    {
     "name": "stdout",
     "output_type": "stream",
     "text": [
      "0.0 1.0\n",
      "0.0 1.0\n",
      "0.0 0.8352942\n"
     ]
    }
   ],
   "source": [
    "# Prepare dataset for better performance\n",
    "train_ds = prepare_ds(train_ds, batch=batch_size, shuffle=True)\n",
    "val_ds = prepare_ds(val_ds, batch=batch_size)\n",
    "test_ds = prepare_ds(test_ds, batch=batch_size)"
   ],
   "metadata": {
    "collapsed": false
   }
  },
  {
   "cell_type": "markdown",
   "source": [
    "### Build model"
   ],
   "metadata": {
    "collapsed": false
   }
  },
  {
   "cell_type": "code",
   "execution_count": 9,
   "outputs": [],
   "source": [
    "# Build data augmentation layer with horizontal flipping, rotations, zooms\n",
    "data_augmentation = Sequential([\n",
    "    RandomFlip(\"horizontal\"),\n",
    "    RandomRotation(0.2),\n",
    "    RandomZoom(0.1),\n",
    "], name=\"data_augmentation\")"
   ],
   "metadata": {
    "collapsed": false
   }
  },
  {
   "cell_type": "code",
   "execution_count": 10,
   "outputs": [
    {
     "name": "stdout",
     "output_type": "stream",
     "text": [
      "image shape = (256, 256, 3)\n"
     ]
    }
   ],
   "source": [
    "# Set Input layer for input data\n",
    "image_shape = None\n",
    "for images in train_ds.take(1):\n",
    "    image_shape = images[0].shape[1:]\n",
    "print(f\"image shape = {image_shape}\")\n",
    "inputs = Input(shape=image_shape, name=\"model_inputs\")"
   ],
   "metadata": {
    "collapsed": false
   }
  },
  {
   "cell_type": "code",
   "execution_count": 11,
   "outputs": [
    {
     "name": "stdout",
     "output_type": "stream",
     "text": [
      "WARNING:tensorflow:Using a while_loop for converting RngReadAndSkip cause there is no registered converter for this op.\n",
      "WARNING:tensorflow:Using a while_loop for converting Bitcast cause there is no registered converter for this op.\n",
      "WARNING:tensorflow:Using a while_loop for converting Bitcast cause there is no registered converter for this op.\n",
      "WARNING:tensorflow:Using a while_loop for converting StatelessRandomUniformV2 cause there is no registered converter for this op.\n",
      "WARNING:tensorflow:Using a while_loop for converting ImageProjectiveTransformV3 cause there is no registered converter for this op.\n",
      "WARNING:tensorflow:Using a while_loop for converting RngReadAndSkip cause there is no registered converter for this op.\n",
      "WARNING:tensorflow:Using a while_loop for converting Bitcast cause there is no registered converter for this op.\n",
      "WARNING:tensorflow:Using a while_loop for converting Bitcast cause there is no registered converter for this op.\n",
      "WARNING:tensorflow:Using a while_loop for converting StatelessRandomUniformV2 cause there is no registered converter for this op.\n",
      "WARNING:tensorflow:Using a while_loop for converting ImageProjectiveTransformV3 cause there is no registered converter for this op.\n",
      "WARNING:tensorflow:Using a while_loop for converting RngReadAndSkip cause there is no registered converter for this op.\n",
      "WARNING:tensorflow:Using a while_loop for converting Bitcast cause there is no registered converter for this op.\n",
      "WARNING:tensorflow:Using a while_loop for converting Bitcast cause there is no registered converter for this op.\n",
      "WARNING:tensorflow:Using a while_loop for converting StatelessRandomUniformV2 cause there is no registered converter for this op.\n",
      "WARNING:tensorflow:Using a while_loop for converting ImageProjectiveTransformV3 cause there is no registered converter for this op.\n",
      "WARNING:tensorflow:Using a while_loop for converting RngReadAndSkip cause there is no registered converter for this op.\n",
      "WARNING:tensorflow:Using a while_loop for converting Bitcast cause there is no registered converter for this op.\n",
      "WARNING:tensorflow:Using a while_loop for converting Bitcast cause there is no registered converter for this op.\n",
      "WARNING:tensorflow:Using a while_loop for converting StatelessRandomUniformV2 cause there is no registered converter for this op.\n",
      "WARNING:tensorflow:Using a while_loop for converting ImageProjectiveTransformV3 cause there is no registered converter for this op.\n"
     ]
    }
   ],
   "source": [
    "# Set data augmentation layer\n",
    "x = data_augmentation(inputs)\n",
    "# Set Convolution layers\n",
    "x = Conv2D(32, 3, padding=\"same\", activation=\"relu\", kernel_initializer=\"he_normal\")(x)\n",
    "# Set Max Pooling 2D layer\n",
    "x = MaxPool2D()(x)\n",
    "# x = Dropout(0.25)(x)\n",
    "# Set next convolution layers\n",
    "x = Conv2D(64, 3, padding=\"same\", activation=\"relu\")(x)\n",
    "x = Conv2D(64, 3, padding=\"same\", activation=\"relu\")(x)\n",
    "# Set another Max Pooling 2D layer\n",
    "x = MaxPool2D()(x)\n",
    "# x = Dropout(0.25)(x)\n",
    "# Set next convolution layers\n",
    "x = Conv2D(128, 3, padding=\"same\", activation=\"relu\")(x)\n",
    "# Set another Max Pooling 2D layer\n",
    "x = MaxPool2D()(x)\n",
    "x = Dropout(0.25)(x)\n",
    "# Set Flatten and finish Dense (Fully connected) layers\n",
    "x = Flatten(name=\"last_flatten_layer\")(x)\n",
    "x = Dense(128, activation=\"relu\")(x)\n",
    "x = BatchNormalization()(x)\n",
    "x = Dropout(0.5)(x)\n",
    "outputs = Dense(num_image_classes, activation=\"softmax\")(x)"
   ],
   "metadata": {
    "collapsed": false
   }
  },
  {
   "cell_type": "code",
   "execution_count": 12,
   "outputs": [],
   "source": [
    "# Define model object\n",
    "conv2_model = Model(inputs, outputs, name=\"convolution_model\")"
   ],
   "metadata": {
    "collapsed": false
   }
  },
  {
   "cell_type": "code",
   "execution_count": 13,
   "outputs": [],
   "source": [
    "# Compile the model\n",
    "model_compile(conv2_model, CategoricalCrossentropy(), learn_rate=0.001)"
   ],
   "metadata": {
    "collapsed": false
   }
  },
  {
   "cell_type": "markdown",
   "source": [
    "### Fit model"
   ],
   "metadata": {
    "collapsed": false
   }
  },
  {
   "cell_type": "code",
   "execution_count": 14,
   "outputs": [
    {
     "name": "stdout",
     "output_type": "stream",
     "text": [
      "Epoch 1/20\n",
      "WARNING:tensorflow:Using a while_loop for converting RngReadAndSkip cause there is no registered converter for this op.\n",
      "WARNING:tensorflow:Using a while_loop for converting Bitcast cause there is no registered converter for this op.\n",
      "WARNING:tensorflow:Using a while_loop for converting Bitcast cause there is no registered converter for this op.\n",
      "WARNING:tensorflow:Using a while_loop for converting StatelessRandomUniformV2 cause there is no registered converter for this op.\n",
      "WARNING:tensorflow:Using a while_loop for converting ImageProjectiveTransformV3 cause there is no registered converter for this op.\n",
      "WARNING:tensorflow:Using a while_loop for converting RngReadAndSkip cause there is no registered converter for this op.\n",
      "WARNING:tensorflow:Using a while_loop for converting Bitcast cause there is no registered converter for this op.\n",
      "WARNING:tensorflow:Using a while_loop for converting Bitcast cause there is no registered converter for this op.\n",
      "WARNING:tensorflow:Using a while_loop for converting StatelessRandomUniformV2 cause there is no registered converter for this op.\n",
      "WARNING:tensorflow:Using a while_loop for converting ImageProjectiveTransformV3 cause there is no registered converter for this op.\n",
      "WARNING:tensorflow:Using a while_loop for converting RngReadAndSkip cause there is no registered converter for this op.\n",
      "WARNING:tensorflow:Using a while_loop for converting Bitcast cause there is no registered converter for this op.\n",
      "WARNING:tensorflow:Using a while_loop for converting Bitcast cause there is no registered converter for this op.\n",
      "WARNING:tensorflow:Using a while_loop for converting StatelessRandomUniformV2 cause there is no registered converter for this op.\n",
      "WARNING:tensorflow:Using a while_loop for converting ImageProjectiveTransformV3 cause there is no registered converter for this op.\n",
      "WARNING:tensorflow:Using a while_loop for converting RngReadAndSkip cause there is no registered converter for this op.\n",
      "WARNING:tensorflow:Using a while_loop for converting Bitcast cause there is no registered converter for this op.\n",
      "WARNING:tensorflow:Using a while_loop for converting Bitcast cause there is no registered converter for this op.\n",
      "WARNING:tensorflow:Using a while_loop for converting StatelessRandomUniformV2 cause there is no registered converter for this op.\n",
      "WARNING:tensorflow:Using a while_loop for converting ImageProjectiveTransformV3 cause there is no registered converter for this op.\n",
      "108/108 [==============================] - 46s 359ms/step - loss: 1.8354 - accuracy: 0.2747 - val_loss: 1.6389 - val_accuracy: 0.4080\n",
      "Epoch 2/20\n",
      "108/108 [==============================] - 38s 346ms/step - loss: 1.6685 - accuracy: 0.3300 - val_loss: 1.6397 - val_accuracy: 0.3480\n",
      "Epoch 3/20\n",
      "108/108 [==============================] - 38s 347ms/step - loss: 1.5974 - accuracy: 0.3440 - val_loss: 1.6137 - val_accuracy: 0.3333\n",
      "Epoch 4/20\n",
      "108/108 [==============================] - 38s 345ms/step - loss: 1.5358 - accuracy: 0.3493 - val_loss: 2.0889 - val_accuracy: 0.2947\n",
      "Epoch 5/20\n",
      "108/108 [==============================] - 38s 346ms/step - loss: 1.5278 - accuracy: 0.3330 - val_loss: 2.5553 - val_accuracy: 0.2773\n",
      "Epoch 6/20\n",
      "108/108 [==============================] - 38s 346ms/step - loss: 1.4763 - accuracy: 0.3760 - val_loss: 1.5569 - val_accuracy: 0.3413\n",
      "Epoch 7/20\n",
      "108/108 [==============================] - 38s 346ms/step - loss: 1.4308 - accuracy: 0.4077 - val_loss: 1.3665 - val_accuracy: 0.4480\n",
      "Epoch 8/20\n",
      "108/108 [==============================] - 38s 346ms/step - loss: 1.3960 - accuracy: 0.4320 - val_loss: 1.4130 - val_accuracy: 0.4147\n",
      "Epoch 9/20\n",
      "108/108 [==============================] - 38s 347ms/step - loss: 1.3662 - accuracy: 0.4383 - val_loss: 5.4922 - val_accuracy: 0.1947\n",
      "Epoch 10/20\n",
      "108/108 [==============================] - 38s 348ms/step - loss: 1.3516 - accuracy: 0.4530 - val_loss: 1.5200 - val_accuracy: 0.3720\n",
      "Epoch 11/20\n",
      "108/108 [==============================] - 38s 348ms/step - loss: 1.3079 - accuracy: 0.4793 - val_loss: 1.3139 - val_accuracy: 0.4800\n",
      "Epoch 12/20\n",
      "108/108 [==============================] - 38s 346ms/step - loss: 1.2794 - accuracy: 0.4787 - val_loss: 1.3735 - val_accuracy: 0.4573\n",
      "Epoch 13/20\n",
      "108/108 [==============================] - 38s 346ms/step - loss: 1.2722 - accuracy: 0.4927 - val_loss: 1.2770 - val_accuracy: 0.4600\n",
      "Epoch 14/20\n",
      "108/108 [==============================] - 38s 345ms/step - loss: 1.2509 - accuracy: 0.4997 - val_loss: 1.1615 - val_accuracy: 0.5507\n",
      "Epoch 15/20\n",
      "108/108 [==============================] - 37s 344ms/step - loss: 1.2210 - accuracy: 0.5243 - val_loss: 1.1295 - val_accuracy: 0.5520\n",
      "Epoch 16/20\n",
      "108/108 [==============================] - 38s 348ms/step - loss: 1.1788 - accuracy: 0.5397 - val_loss: 1.1466 - val_accuracy: 0.5573\n",
      "Epoch 17/20\n",
      "108/108 [==============================] - 38s 347ms/step - loss: 1.2792 - accuracy: 0.4880 - val_loss: 1.1531 - val_accuracy: 0.5427\n",
      "Epoch 18/20\n",
      "108/108 [==============================] - 38s 345ms/step - loss: 1.1955 - accuracy: 0.5187 - val_loss: 1.8091 - val_accuracy: 0.4067\n",
      "Epoch 19/20\n",
      "108/108 [==============================] - 38s 346ms/step - loss: 1.1696 - accuracy: 0.5457 - val_loss: 1.0534 - val_accuracy: 0.5773\n",
      "Epoch 20/20\n",
      "108/108 [==============================] - 38s 347ms/step - loss: 1.0981 - accuracy: 0.5677 - val_loss: 1.0128 - val_accuracy: 0.6000\n"
     ]
    }
   ],
   "source": [
    "# Fit model with train and validation data\n",
    "conv2_history = conv2_model.fit(train_ds,\n",
    "                                batch_size=batch_size,\n",
    "                                epochs=20,\n",
    "                                validation_data=val_ds,\n",
    "                                use_multiprocessing=True,\n",
    "                                )"
   ],
   "metadata": {
    "collapsed": false
   }
  },
  {
   "cell_type": "markdown",
   "source": [
    "### Evaluate model"
   ],
   "metadata": {
    "collapsed": false
   }
  },
  {
   "cell_type": "code",
   "execution_count": 15,
   "outputs": [
    {
     "data": {
      "text/plain": "<Figure size 640x480 with 1 Axes>",
      "image/png": "[encoded data removed]"
     },
     "metadata": {},
     "output_type": "display_data"
    },
    {
     "data": {
      "text/plain": "<Figure size 640x480 with 1 Axes>",
      "image/png": "[encoded data removed]"
     },
     "metadata": {},
     "output_type": "display_data"
    }
   ],
   "source": [
    " # plot loss curves from history\n",
    "plot_loss_curves(conv2_history)"
   ],
   "metadata": {
    "collapsed": false
   }
  },
  {
   "cell_type": "code",
   "execution_count": 16,
   "outputs": [
    {
     "name": "stdout",
     "output_type": "stream",
     "text": [
      "45/45 [==============================] - 5s 102ms/step - loss: 1.0348 - accuracy: 0.5848\n",
      "Model loss on the test set: 1.034757137298584\n",
      "Model accuracy on the test set: 0.5848000049591064\n"
     ]
    }
   ],
   "source": [
    "loss, accuracy = conv2_model.evaluate(test_ds)\n",
    "print(f\"Model loss on the test set: {loss}\")\n",
    "print(f\"Model accuracy on the test set: {accuracy}\")"
   ],
   "metadata": {
    "collapsed": false
   }
  },
  {
   "cell_type": "markdown",
   "source": [
    "In summary, we have that result:\n",
    "**model** -- Convolution Neural Network (CNN)\n",
    "**result** --\n",
    "accuracy = 0.58;\n",
    "loss = 1.03;"
   ],
   "metadata": {
    "collapsed": false
   }
  },
  {
   "cell_type": "markdown",
   "source": [
    "## Exercise 3"
   ],
   "metadata": {
    "collapsed": false
   }
  },
  {
   "cell_type": "markdown",
   "source": [
    "#### Downloading Dataset\n",
    "Our dataset is Emotion Detection from Text (from [kaggle](https://www.kaggle.com/datasets/pashupatigupta/emotion-detection-from-text?resource=download))"
   ],
   "metadata": {
    "collapsed": false
   }
  },
  {
   "cell_type": "markdown",
   "source": [
    "### Preprocessing Dataset"
   ],
   "metadata": {
    "collapsed": false
   }
  },
  {
   "cell_type": "code",
   "execution_count": 2,
   "outputs": [],
   "source": [
    "# Load dataset\n",
    "tweet_emotions = pd.read_csv(\"datasets\\\\emotion_detection_text\\\\tweet_emotions.csv\")"
   ],
   "metadata": {
    "collapsed": false
   }
  },
  {
   "cell_type": "code",
   "execution_count": 3,
   "outputs": [
    {
     "name": "stdout",
     "output_type": "stream",
     "text": [
      "<class 'pandas.core.frame.DataFrame'>\n",
      "RangeIndex: 40000 entries, 0 to 39999\n",
      "Data columns (total 3 columns):\n",
      " #   Column     Non-Null Count  Dtype \n",
      "---  ------     --------------  ----- \n",
      " 0   tweet_id   40000 non-null  int64 \n",
      " 1   sentiment  40000 non-null  object\n",
      " 2   content    40000 non-null  object\n",
      "dtypes: int64(1), object(2)\n",
      "memory usage: 937.6+ KB\n"
     ]
    }
   ],
   "source": [
    "# Drop NA values\n",
    "tweet_emotions.dropna(inplace=True)\n",
    "tweet_emotions.info()"
   ],
   "metadata": {
    "collapsed": false
   }
  },
  {
   "cell_type": "code",
   "execution_count": 4,
   "outputs": [
    {
     "name": "stdout",
     "output_type": "stream",
     "text": [
      "     tweet_id   sentiment                                            content\n",
      "0  1956967341       empty  @tiffanylue i know  i was listenin to bad habi...\n",
      "1  1956967666     sadness  Layin n bed with a headache  ughhhh...waitin o...\n",
      "2  1956967696     sadness                Funeral ceremony...gloomy friday...\n",
      "3  1956967789  enthusiasm               wants to hang out with friends SOON!\n",
      "4  1956968416     neutral  @dannycastillo We want to trade with someone w...\n"
     ]
    }
   ],
   "source": [
    "# View dataset\n",
    "print(tweet_emotions.head())"
   ],
   "metadata": {
    "collapsed": false
   }
  },
  {
   "cell_type": "code",
   "execution_count": 5,
   "outputs": [
    {
     "data": {
      "text/plain": "Index(['tweet_id', 'sentiment', 'content'], dtype='object')"
     },
     "execution_count": 5,
     "metadata": {},
     "output_type": "execute_result"
    }
   ],
   "source": [
    "# View dataset columns\n",
    "tweet_emotions.keys()"
   ],
   "metadata": {
    "collapsed": false
   }
  },
  {
   "cell_type": "code",
   "execution_count": 6,
   "outputs": [],
   "source": [
    "# Drop unnecessary columns\n",
    "tweet_emotions.drop([\"tweet_id\"], axis=1, inplace=True)"
   ],
   "metadata": {
    "collapsed": false
   }
  },
  {
   "cell_type": "code",
   "execution_count": 7,
   "outputs": [
    {
     "data": {
      "text/plain": "Index(['sentiment', 'content'], dtype='object')"
     },
     "execution_count": 7,
     "metadata": {},
     "output_type": "execute_result"
    }
   ],
   "source": [
    "# View columns again\n",
    "tweet_emotions.columns"
   ],
   "metadata": {
    "collapsed": false
   }
  },
  {
   "cell_type": "code",
   "execution_count": 11,
   "outputs": [
    {
     "data": {
      "text/plain": "{'anger',\n 'boredom',\n 'empty',\n 'enthusiasm',\n 'fun',\n 'happiness',\n 'hate',\n 'love',\n 'neutral',\n 'relief',\n 'sadness',\n 'surprise',\n 'worry'}"
     },
     "execution_count": 11,
     "metadata": {},
     "output_type": "execute_result"
    }
   ],
   "source": [
    "# View number of classes\n",
    "set(tweet_emotions[\"sentiment\"])"
   ],
   "metadata": {
    "collapsed": false
   }
  },
  {
   "cell_type": "code",
   "execution_count": 12,
   "outputs": [],
   "source": [
    "# Leave only 3 classes\n",
    "list_of_class = [\"happiness\", \"sadness\", \"love\"]\n",
    "tweet_emotions = tweet_emotions.loc[tweet_emotions[\"sentiment\"].isin(list_of_class)]"
   ],
   "metadata": {
    "collapsed": false
   }
  },
  {
   "cell_type": "code",
   "execution_count": 13,
   "outputs": [
    {
     "data": {
      "text/plain": "{'happiness', 'love', 'sadness'}"
     },
     "execution_count": 13,
     "metadata": {},
     "output_type": "execute_result"
    }
   ],
   "source": [
    "# View dataset classes again\n",
    "set(tweet_emotions[\"sentiment\"])"
   ],
   "metadata": {
    "collapsed": false
   }
  },
  {
   "cell_type": "code",
   "execution_count": 14,
   "outputs": [
    {
     "name": "stdout",
     "output_type": "stream",
     "text": [
      "3\n"
     ]
    }
   ],
   "source": [
    "num_classes = len(list_of_class)\n",
    "print(num_classes)"
   ],
   "metadata": {
    "collapsed": false
   }
  },
  {
   "cell_type": "code",
   "execution_count": 15,
   "outputs": [
    {
     "name": "stdout",
     "output_type": "stream",
     "text": [
      "<class 'pandas.core.frame.DataFrame'>\n",
      "Int64Index: 14216 entries, 1 to 39999\n",
      "Data columns (total 2 columns):\n",
      " #   Column     Non-Null Count  Dtype \n",
      "---  ------     --------------  ----- \n",
      " 0   sentiment  14216 non-null  object\n",
      " 1   content    14216 non-null  object\n",
      "dtypes: object(2)\n",
      "memory usage: 333.2+ KB\n"
     ]
    }
   ],
   "source": [
    "# View info about dataset\n",
    "tweet_emotions.info()"
   ],
   "metadata": {
    "collapsed": false
   }
  },
  {
   "cell_type": "code",
   "execution_count": 16,
   "outputs": [
    {
     "name": "stdout",
     "output_type": "stream",
     "text": [
      "  sentiment                                            content\n",
      "1   sadness  Layin n bed with a headache  ughhhh...waitin o...\n",
      "2   sadness                Funeral ceremony...gloomy friday...\n",
      "6   sadness  I should be sleep, but im not! thinking about ...\n",
      "8   sadness            @charviray Charlene my love. I miss you\n",
      "9   sadness         @kelcouch I'm sorry  at least it's Friday?\n"
     ]
    }
   ],
   "source": [
    "# View new dataset\n",
    "print(tweet_emotions.head())"
   ],
   "metadata": {
    "collapsed": false
   }
  },
  {
   "cell_type": "code",
   "execution_count": 18,
   "outputs": [],
   "source": [
    "def clean_text(text_series):\n",
    "    \"\"\"\n",
    "    Help function for cleaning dataset;\n",
    "    :param text_series: pandas Series with string text data;\n",
    "    :return: pandas Series with some changes in string cell.\n",
    "    \"\"\"\n",
    "    # Set stopwords\n",
    "    stop_words = stopwords.words(\"english\")\n",
    "    # Make cleaning\n",
    "    text_series = text_series.str.lower()\n",
    "    text_series = text_series.str.replace(r\"@\\S+\", \"\")\n",
    "    text_series = text_series.str.replace(r\"https*\\S+\", \"\")\n",
    "    text_series = text_series.str.replace(r\"#\\S+\", \"\")\n",
    "    text_series = text_series.str.replace(r\"\\d\", \"\")\n",
    "    text_series = text_series.str.replace(r\"[%s]\" % re.escape(string.punctuation), \"\")  # remove punctuations\n",
    "    text_series = text_series.str.replace(r\"\\n\", \"\")\n",
    "    text_series = text_series.str.replace(r\"\\s{2,}\", \" \")\n",
    "    # Remove Stop Words\n",
    "    pat = r\"\\b(?:{})\\b\".format(\"|\".join(stop_words))\n",
    "    text_series = text_series.str.replace(pat, \"\")\n",
    "    text_series = text_series.str.replace(r\"\\s+\", \" \")\n",
    "\n",
    "    return text_series"
   ],
   "metadata": {
    "collapsed": false
   }
  },
  {
   "cell_type": "code",
   "execution_count": 19,
   "outputs": [
    {
     "name": "stderr",
     "output_type": "stream",
     "text": [
      "C:\\Users\\Who\\AppData\\Local\\Temp\\ipykernel_11844\\1495260089.py:11: FutureWarning: The default value of regex will change from True to False in a future version.\n",
      "  text_series = text_series.str.replace(r\"@\\S+\", \"\")\n",
      "C:\\Users\\Who\\AppData\\Local\\Temp\\ipykernel_11844\\1495260089.py:12: FutureWarning: The default value of regex will change from True to False in a future version.\n",
      "  text_series = text_series.str.replace(r\"https*\\S+\", \"\")\n",
      "C:\\Users\\Who\\AppData\\Local\\Temp\\ipykernel_11844\\1495260089.py:13: FutureWarning: The default value of regex will change from True to False in a future version.\n",
      "  text_series = text_series.str.replace(r\"#\\S+\", \"\")\n",
      "C:\\Users\\Who\\AppData\\Local\\Temp\\ipykernel_11844\\1495260089.py:14: FutureWarning: The default value of regex will change from True to False in a future version.\n",
      "  text_series = text_series.str.replace(r\"\\d\", \"\")\n",
      "C:\\Users\\Who\\AppData\\Local\\Temp\\ipykernel_11844\\1495260089.py:15: FutureWarning: The default value of regex will change from True to False in a future version.\n",
      "  text_series = text_series.str.replace(r\"[%s]\" % re.escape(string.punctuation), \"\")  # remove punctuations\n",
      "C:\\Users\\Who\\AppData\\Local\\Temp\\ipykernel_11844\\1495260089.py:16: FutureWarning: The default value of regex will change from True to False in a future version.\n",
      "  text_series = text_series.str.replace(r\"\\n\", \"\")\n",
      "C:\\Users\\Who\\AppData\\Local\\Temp\\ipykernel_11844\\1495260089.py:17: FutureWarning: The default value of regex will change from True to False in a future version.\n",
      "  text_series = text_series.str.replace(r\"\\s{2,}\", \" \")\n",
      "C:\\Users\\Who\\AppData\\Local\\Temp\\ipykernel_11844\\1495260089.py:20: FutureWarning: The default value of regex will change from True to False in a future version.\n",
      "  text_series = text_series.str.replace(pat, \"\")\n",
      "C:\\Users\\Who\\AppData\\Local\\Temp\\ipykernel_11844\\1495260089.py:21: FutureWarning: The default value of regex will change from True to False in a future version.\n",
      "  text_series = text_series.str.replace(r\"\\s+\", \" \")\n"
     ]
    }
   ],
   "source": [
    "# Cleaning Dataset\n",
    "clean_tweet_emotions = tweet_emotions.copy()\n",
    "clean_tweet_emotions[\"content\"] = clean_text(clean_tweet_emotions[\"content\"])"
   ],
   "metadata": {
    "collapsed": false
   }
  },
  {
   "cell_type": "code",
   "execution_count": 20,
   "outputs": [
    {
     "name": "stdout",
     "output_type": "stream",
     "text": [
      "  sentiment                                            content\n",
      "1   sadness             layin n bed headache ughhhhwaitin call\n",
      "2   sadness                      funeral ceremonygloomy friday\n",
      "6   sadness   sleep im thinking old friend want hes married...\n",
      "8   sadness                                charlene love miss \n",
      "9   sadness                              im sorry least friday\n"
     ]
    }
   ],
   "source": [
    "# View clean dataset\n",
    "print(clean_tweet_emotions.head())"
   ],
   "metadata": {
    "collapsed": false
   }
  },
  {
   "cell_type": "code",
   "execution_count": 21,
   "outputs": [],
   "source": [
    "def classification_confusion_evaluation(y_true, y_pred, classes=None):\n",
    "    \"\"\"\n",
    "    Help function for viewing classification report of predictions and visualise confusion matrix;\n",
    "    :param y_true: Array of truth labels (must be same shape as y_pred);\n",
    "    :param y_pred: Array of predicted labels (must be same shape as y_true);\n",
    "    :param classes: Array of class labels (as string).\n",
    "    \"\"\"\n",
    "    model_accuracy = accuracy_score(y_true, y_pred)\n",
    "\n",
    "    print(\"==>Classification Report<==\")\n",
    "    print(classification_report(y_true, y_pred))\n",
    "    print(\"==========================\")\n",
    "    print(\"==>Model accuracy: {:.2f}\".format(model_accuracy))"
   ],
   "metadata": {
    "collapsed": false
   }
  },
  {
   "cell_type": "code",
   "execution_count": 22,
   "outputs": [
    {
     "name": "stdout",
     "output_type": "stream",
     "text": [
      "  sentiment                                            content\n",
      "1   sadness             layin n bed headache ughhhhwaitin call\n",
      "2   sadness                      funeral ceremonygloomy friday\n",
      "6   sadness   sleep im thinking old friend want hes married...\n",
      "8   sadness                                charlene love miss \n",
      "9   sadness                              im sorry least friday\n"
     ]
    }
   ],
   "source": [
    "# View new dataframe\n",
    "print(clean_tweet_emotions.head())"
   ],
   "metadata": {
    "collapsed": false
   }
  },
  {
   "cell_type": "code",
   "execution_count": 23,
   "outputs": [],
   "source": [
    "# Replace string classes with integer classes\n",
    "classes_dict = {\"happiness\": 0, \"sadness\": 1, \"love\": 2}\n",
    "clean_tweet_emotions[\"sentiment\"] = clean_tweet_emotions[\"sentiment\"].apply(lambda x: classes_dict[x])"
   ],
   "metadata": {
    "collapsed": false
   }
  },
  {
   "cell_type": "code",
   "execution_count": 24,
   "outputs": [],
   "source": [
    "# Split dataset to x & y variables\n",
    "x = clean_tweet_emotions[\"content\"].to_numpy()\n",
    "y = clean_tweet_emotions[\"sentiment\"].to_numpy()"
   ],
   "metadata": {
    "collapsed": false
   }
  },
  {
   "cell_type": "code",
   "execution_count": 66,
   "outputs": [],
   "source": [
    "# Preprocess dataset as TF dataset\n",
    "# tweet_ds = tf.data.Dataset.from_tensor_slices((x, y))\n",
    "# next(iter(tweet_ds))\n",
    "# Define hyperparameters\n",
    "random_seed = 17\n",
    "# Split dataset to train & test sets\n",
    "X_train, X_test, y_train, y_test = train_test_split(x,\n",
    "                                                    y,\n",
    "                                                    test_size=0.1,\n",
    "                                                    random_state=random_seed)"
   ],
   "metadata": {
    "collapsed": false
   }
  },
  {
   "cell_type": "code",
   "execution_count": 67,
   "outputs": [],
   "source": [
    "# One-Hot encoding our labels\n",
    "y_train = to_categorical(y_train, 3)\n",
    "y_test = to_categorical(y_test, 3)"
   ],
   "metadata": {
    "collapsed": false
   }
  },
  {
   "cell_type": "code",
   "execution_count": 68,
   "outputs": [],
   "source": [
    "# Define Vectorizer\n",
    "max_vocab_length = 4000\n",
    "max_seq_length = 15\n",
    "\n",
    "text_vectorizer = TextVectorization(max_tokens=max_vocab_length,\n",
    "                                    output_mode=\"int\",\n",
    "                                    output_sequence_length=max_seq_length)"
   ],
   "metadata": {
    "collapsed": false
   }
  },
  {
   "cell_type": "code",
   "execution_count": 69,
   "outputs": [],
   "source": [
    "# Fit the text vectorizer to the training text\n",
    "text_vectorizer.adapt(X_train)"
   ],
   "metadata": {
    "collapsed": false
   }
  },
  {
   "cell_type": "code",
   "execution_count": 70,
   "outputs": [
    {
     "data": {
      "text/plain": "(12794, 3)"
     },
     "execution_count": 70,
     "metadata": {},
     "output_type": "execute_result"
    }
   ],
   "source": [
    "# View shape of labels\n",
    "y_train.shape"
   ],
   "metadata": {
    "collapsed": false
   }
  },
  {
   "cell_type": "code",
   "execution_count": 71,
   "outputs": [
    {
     "data": {
      "text/plain": "(1422, 3)"
     },
     "execution_count": 71,
     "metadata": {},
     "output_type": "execute_result"
    }
   ],
   "source": [
    "y_test.shape"
   ],
   "metadata": {
    "collapsed": false
   }
  },
  {
   "cell_type": "code",
   "execution_count": 72,
   "outputs": [
    {
     "name": "stdout",
     "output_type": "stream",
     "text": [
      "[[0. 0. 1.]\n",
      " [0. 0. 1.]\n",
      " [0. 0. 1.]\n",
      " ...\n",
      " [1. 0. 0.]\n",
      " [0. 1. 0.]\n",
      " [1. 0. 0.]]\n"
     ]
    }
   ],
   "source": [
    "# Check train labels\n",
    "print(y_train)"
   ],
   "metadata": {
    "collapsed": false
   }
  },
  {
   "cell_type": "code",
   "execution_count": 73,
   "outputs": [
    {
     "name": "stdout",
     "output_type": "stream",
     "text": [
      "[[1. 0. 0.]\n",
      " [1. 0. 0.]\n",
      " [0. 0. 1.]\n",
      " ...\n",
      " [0. 0. 1.]\n",
      " [0. 0. 1.]\n",
      " [1. 0. 0.]]\n"
     ]
    }
   ],
   "source": [
    "# Check test labels\n",
    "print(y_test)"
   ],
   "metadata": {
    "collapsed": false
   }
  },
  {
   "cell_type": "markdown",
   "source": [
    "### Build model"
   ],
   "metadata": {
    "collapsed": false
   }
  },
  {
   "cell_type": "code",
   "execution_count": 74,
   "outputs": [],
   "source": [
    "# Create an Embedding layer for our model\n",
    "embedding_layer = Embedding(input_dim=max_vocab_length,\n",
    "                            output_dim=100,\n",
    "                            embeddings_initializer=\"uniform\",\n",
    "                            input_length=max_seq_length,\n",
    "                            name=\"rnn_embedding\")"
   ],
   "metadata": {
    "collapsed": false
   }
  },
  {
   "cell_type": "code",
   "execution_count": 81,
   "outputs": [
    {
     "name": "stdout",
     "output_type": "stream",
     "text": [
      "WARNING:tensorflow:Layer lstm_4 will not use cuDNN kernels since it doesn't meet the criteria. It will use a generic GPU kernel as fallback when running on GPU.\n"
     ]
    }
   ],
   "source": [
    "# Build our model with our layers\n",
    "inputs = Input(shape=(1,), dtype=\"string\")\n",
    "x = text_vectorizer(inputs)\n",
    "x = embedding_layer(x)\n",
    "x = SpatialDropout1D(0.2)(x)\n",
    "x = LSTM(75, dropout=0.3, recurrent_dropout=0.3)(x)\n",
    "x = BatchNormalization()(x)\n",
    "x = Dense(16, activation=\"relu\")(x)\n",
    "x = BatchNormalization()(x)\n",
    "# x = Dropout(0.75)(x)\n",
    "outputs = Dense(num_classes, activation=\"softmax\")(x)"
   ],
   "metadata": {
    "collapsed": false
   }
  },
  {
   "cell_type": "code",
   "execution_count": 82,
   "outputs": [],
   "source": [
    "# Define model object\n",
    "birnn_model = Model(inputs, outputs, name=\"rnn_model_LSTM\")"
   ],
   "metadata": {
    "collapsed": false
   }
  },
  {
   "cell_type": "code",
   "execution_count": 83,
   "outputs": [],
   "source": [
    "# Compile the model\n",
    "model_compile(birnn_model, CategoricalCrossentropy(), learn_rate=0.0003)"
   ],
   "metadata": {
    "collapsed": false
   }
  },
  {
   "cell_type": "code",
   "execution_count": 84,
   "outputs": [
    {
     "name": "stdout",
     "output_type": "stream",
     "text": [
      "Model: \"rnn_model_LSTM\"\n",
      "_________________________________________________________________\n",
      " Layer (type)                Output Shape              Param #   \n",
      "=================================================================\n",
      " input_5 (InputLayer)        [(None, 1)]               0         \n",
      "                                                                 \n",
      " text_vectorization_3 (TextV  (None, 15)               0         \n",
      " ectorization)                                                   \n",
      "                                                                 \n",
      " rnn_embedding (Embedding)   (None, 15, 100)           400000    \n",
      "                                                                 \n",
      " spatial_dropout1d_4 (Spatia  (None, 15, 100)          0         \n",
      " lDropout1D)                                                     \n",
      "                                                                 \n",
      " lstm_4 (LSTM)               (None, 75)                52800     \n",
      "                                                                 \n",
      " batch_normalization (BatchN  (None, 75)               300       \n",
      " ormalization)                                                   \n",
      "                                                                 \n",
      " dense_7 (Dense)             (None, 16)                1216      \n",
      "                                                                 \n",
      " batch_normalization_1 (Batc  (None, 16)               64        \n",
      " hNormalization)                                                 \n",
      "                                                                 \n",
      " dense_8 (Dense)             (None, 3)                 51        \n",
      "                                                                 \n",
      "=================================================================\n",
      "Total params: 454,431\n",
      "Trainable params: 454,249\n",
      "Non-trainable params: 182\n",
      "_________________________________________________________________\n"
     ]
    }
   ],
   "source": [
    "# View model summary\n",
    "birnn_model.summary()"
   ],
   "metadata": {
    "collapsed": false
   }
  },
  {
   "cell_type": "markdown",
   "source": [
    "### Fit model"
   ],
   "metadata": {
    "collapsed": false
   },
   "outputs": [
    {
     "name": "stdout",
     "output_type": "stream",
     "text": [
      "244/400 [=================>............] - ETA: 2s - loss: 1.0359 - accuracy: 0.5816"
     ]
    }
   ]
  },
  {
   "cell_type": "code",
   "execution_count": 85,
   "outputs": [
    {
     "name": "stdout",
     "output_type": "stream",
     "text": [
      "Epoch 1/5\n",
      "400/400 [==============================] - 52s 118ms/step - loss: 0.7999 - accuracy: 0.6370 - val_loss: 0.9003 - val_accuracy: 0.5830\n",
      "Epoch 2/5\n",
      "400/400 [==============================] - 46s 114ms/step - loss: 0.6494 - accuracy: 0.7278 - val_loss: 0.9000 - val_accuracy: 0.6245\n",
      "Epoch 3/5\n",
      "400/400 [==============================] - 46s 116ms/step - loss: 0.6174 - accuracy: 0.7433 - val_loss: 0.8950 - val_accuracy: 0.6146\n",
      "Epoch 4/5\n",
      "400/400 [==============================] - 46s 115ms/step - loss: 0.6044 - accuracy: 0.7463 - val_loss: 0.9328 - val_accuracy: 0.5893\n",
      "Epoch 5/5\n",
      "400/400 [==============================] - 48s 119ms/step - loss: 0.5724 - accuracy: 0.7632 - val_loss: 0.9590 - val_accuracy: 0.6090\n"
     ]
    }
   ],
   "source": [
    "# Fit model with train and test data\n",
    "birnn_model_history = birnn_model.fit(X_train,\n",
    "                                     y_train,\n",
    "                                     epochs=5,\n",
    "                                     validation_data=(X_test, y_test))"
   ],
   "metadata": {
    "collapsed": false
   }
  },
  {
   "cell_type": "code",
   "execution_count": 86,
   "outputs": [
    {
     "data": {
      "text/plain": "<Figure size 640x480 with 1 Axes>",
      "image/png": "[encoded data removed]"
     },
     "metadata": {},
     "output_type": "display_data"
    },
    {
     "data": {
      "text/plain": "<Figure size 640x480 with 1 Axes>",
      "image/png": "[encoded data removed]"
     },
     "metadata": {},
     "output_type": "display_data"
    }
   ],
   "source": [
    "plot_loss_curves(birnn_model_history)"
   ],
   "metadata": {
    "collapsed": false
   }
  },
  {
   "cell_type": "markdown",
   "source": [
    "### Evaluate model"
   ],
   "metadata": {
    "collapsed": false
   },
   "outputs": [
    {
     "name": "stdout",
     "output_type": "stream",
     "text": [
      "353/400 [=========================>....] - ETA: 0s - loss: 0.2703 - accuracy: 0.8928"
     ]
    }
   ]
  },
  {
   "cell_type": "code",
   "execution_count": 87,
   "outputs": [
    {
     "name": "stdout",
     "output_type": "stream",
     "text": [
      "45/45 [==============================] - 1s 16ms/step\n"
     ]
    }
   ],
   "source": [
    "# Make predictions on the test dataset\n",
    "rnn_model_pred_probs = birnn_model.predict(X_test)"
   ],
   "metadata": {
    "collapsed": false
   }
  },
  {
   "cell_type": "code",
   "execution_count": 88,
   "outputs": [],
   "source": [
    "# Round out predictions and reduce to 1-dimensional array\n",
    "rnn_model_preds = tf.squeeze(tf.round(rnn_model_pred_probs))"
   ],
   "metadata": {
    "collapsed": false
   }
  },
  {
   "cell_type": "code",
   "execution_count": 89,
   "outputs": [
    {
     "data": {
      "text/plain": "<tf.Tensor: shape=(1422, 3), dtype=float32, numpy=\narray([[0., 0., 1.],\n       [0., 1., 0.],\n       [1., 0., 0.],\n       ...,\n       [0., 0., 1.],\n       [0., 0., 1.],\n       [1., 0., 0.]], dtype=float32)>"
     },
     "execution_count": 89,
     "metadata": {},
     "output_type": "execute_result"
    }
   ],
   "source": [
    "# View on model predictions\n",
    "rnn_model_preds"
   ],
   "metadata": {
    "collapsed": false
   }
  },
  {
   "cell_type": "code",
   "execution_count": 90,
   "outputs": [
    {
     "name": "stdout",
     "output_type": "stream",
     "text": [
      "==>Classification Report<==\n",
      "              precision    recall  f1-score   support\n",
      "\n",
      "           0       0.58      0.56      0.57       517\n",
      "           1       0.72      0.69      0.71       518\n",
      "           2       0.54      0.39      0.45       387\n",
      "\n",
      "   micro avg       0.63      0.56      0.59      1422\n",
      "   macro avg       0.61      0.55      0.58      1422\n",
      "weighted avg       0.62      0.56      0.59      1422\n",
      " samples avg       0.56      0.56      0.56      1422\n",
      "\n",
      "==>Confusion Matrix<==\n"
     ]
    },
    {
     "name": "stderr",
     "output_type": "stream",
     "text": [
      "D:\\.main\\.code\\data_analysis_labs\\venv\\lib\\site-packages\\sklearn\\metrics\\_classification.py:1334: UndefinedMetricWarning: Precision and F-score are ill-defined and being set to 0.0 in samples with no predicted labels. Use `zero_division` parameter to control this behavior.\n",
      "  _warn_prf(average, modifier, msg_start, len(result))\n"
     ]
    },
    {
     "ename": "ValueError",
     "evalue": "multilabel-indicator is not supported",
     "output_type": "error",
     "traceback": [
      "\u001B[1;31m---------------------------------------------------------------------------\u001B[0m",
      "\u001B[1;31mValueError\u001B[0m                                Traceback (most recent call last)",
      "Cell \u001B[1;32mIn [90], line 2\u001B[0m\n\u001B[0;32m      1\u001B[0m \u001B[38;5;66;03m# View classification report and confusion matrix\u001B[39;00m\n\u001B[1;32m----> 2\u001B[0m \u001B[43mclassification_confusion_evaluation\u001B[49m\u001B[43m(\u001B[49m\u001B[43my_test\u001B[49m\u001B[43m,\u001B[49m\u001B[43m \u001B[49m\u001B[43mrnn_model_preds\u001B[49m\u001B[43m,\u001B[49m\u001B[43m \u001B[49m\u001B[43mlist_of_class\u001B[49m\u001B[43m)\u001B[49m\n",
      "Cell \u001B[1;32mIn [18], line 85\u001B[0m, in \u001B[0;36mclassification_confusion_evaluation\u001B[1;34m(y_true, y_pred, classes)\u001B[0m\n\u001B[0;32m     83\u001B[0m \u001B[38;5;28mprint\u001B[39m(classification_report(y_true, y_pred))\n\u001B[0;32m     84\u001B[0m \u001B[38;5;28mprint\u001B[39m(\u001B[38;5;124m\"\u001B[39m\u001B[38;5;124m==>Confusion Matrix<==\u001B[39m\u001B[38;5;124m\"\u001B[39m)\n\u001B[1;32m---> 85\u001B[0m \u001B[43mmake_confusion_matrix\u001B[49m\u001B[43m(\u001B[49m\u001B[43my_true\u001B[49m\u001B[43m,\u001B[49m\u001B[43m \u001B[49m\u001B[43my_pred\u001B[49m\u001B[43m,\u001B[49m\u001B[43m \u001B[49m\u001B[43mclasses\u001B[49m\u001B[43m)\u001B[49m\n\u001B[0;32m     86\u001B[0m \u001B[38;5;28mprint\u001B[39m(\u001B[38;5;124m\"\u001B[39m\u001B[38;5;124m==========================\u001B[39m\u001B[38;5;124m\"\u001B[39m)\n\u001B[0;32m     87\u001B[0m \u001B[38;5;28mprint\u001B[39m(\u001B[38;5;124m\"\u001B[39m\u001B[38;5;124m==>Model accuracy: \u001B[39m\u001B[38;5;132;01m{:.2f}\u001B[39;00m\u001B[38;5;124m\"\u001B[39m\u001B[38;5;241m.\u001B[39mformat(model_accuracy))\n",
      "Cell \u001B[1;32mIn [18], line 24\u001B[0m, in \u001B[0;36mmake_confusion_matrix\u001B[1;34m(y_true, y_pred, classes, figsize, text_size, norm, savefig)\u001B[0m\n\u001B[0;32m      2\u001B[0m \u001B[38;5;124;03m\"\"\"Makes a labelled confusion matrix comparing predictions and ground truth labels.\u001B[39;00m\n\u001B[0;32m      3\u001B[0m \n\u001B[0;32m      4\u001B[0m \u001B[38;5;124;03mIf classes is passed, confusion matrix will be labelled, if not, integer class values\u001B[39;00m\n\u001B[1;32m   (...)\u001B[0m\n\u001B[0;32m     21\u001B[0m \u001B[38;5;124;03m                      text_size=10)\u001B[39;00m\n\u001B[0;32m     22\u001B[0m \u001B[38;5;124;03m\"\"\"\u001B[39;00m\n\u001B[0;32m     23\u001B[0m \u001B[38;5;66;03m# Create the confusion matrix\u001B[39;00m\n\u001B[1;32m---> 24\u001B[0m confusion_mx \u001B[38;5;241m=\u001B[39m \u001B[43mconfusion_matrix\u001B[49m\u001B[43m(\u001B[49m\u001B[43my_true\u001B[49m\u001B[43m,\u001B[49m\u001B[43m \u001B[49m\u001B[43my_pred\u001B[49m\u001B[43m)\u001B[49m\n\u001B[0;32m     25\u001B[0m confusion_mx_norm \u001B[38;5;241m=\u001B[39m confusion_mx\u001B[38;5;241m.\u001B[39mastype(\u001B[38;5;124m\"\u001B[39m\u001B[38;5;124mfloat\u001B[39m\u001B[38;5;124m\"\u001B[39m) \u001B[38;5;241m/\u001B[39m confusion_mx\u001B[38;5;241m.\u001B[39msum(axis\u001B[38;5;241m=\u001B[39m\u001B[38;5;241m1\u001B[39m)[:, np\u001B[38;5;241m.\u001B[39mnewaxis] \u001B[38;5;66;03m# normalize it\u001B[39;00m\n\u001B[0;32m     26\u001B[0m n_classes \u001B[38;5;241m=\u001B[39m confusion_mx\u001B[38;5;241m.\u001B[39mshape[\u001B[38;5;241m0\u001B[39m] \u001B[38;5;66;03m# find the number of classes we're dealing with\u001B[39;00m\n",
      "File \u001B[1;32mD:\\.main\\.code\\data_analysis_labs\\venv\\lib\\site-packages\\sklearn\\metrics\\_classification.py:309\u001B[0m, in \u001B[0;36mconfusion_matrix\u001B[1;34m(y_true, y_pred, labels, sample_weight, normalize)\u001B[0m\n\u001B[0;32m    307\u001B[0m y_type, y_true, y_pred \u001B[38;5;241m=\u001B[39m _check_targets(y_true, y_pred)\n\u001B[0;32m    308\u001B[0m \u001B[38;5;28;01mif\u001B[39;00m y_type \u001B[38;5;129;01mnot\u001B[39;00m \u001B[38;5;129;01min\u001B[39;00m (\u001B[38;5;124m\"\u001B[39m\u001B[38;5;124mbinary\u001B[39m\u001B[38;5;124m\"\u001B[39m, \u001B[38;5;124m\"\u001B[39m\u001B[38;5;124mmulticlass\u001B[39m\u001B[38;5;124m\"\u001B[39m):\n\u001B[1;32m--> 309\u001B[0m     \u001B[38;5;28;01mraise\u001B[39;00m \u001B[38;5;167;01mValueError\u001B[39;00m(\u001B[38;5;124m\"\u001B[39m\u001B[38;5;132;01m%s\u001B[39;00m\u001B[38;5;124m is not supported\u001B[39m\u001B[38;5;124m\"\u001B[39m \u001B[38;5;241m%\u001B[39m y_type)\n\u001B[0;32m    311\u001B[0m \u001B[38;5;28;01mif\u001B[39;00m labels \u001B[38;5;129;01mis\u001B[39;00m \u001B[38;5;28;01mNone\u001B[39;00m:\n\u001B[0;32m    312\u001B[0m     labels \u001B[38;5;241m=\u001B[39m unique_labels(y_true, y_pred)\n",
      "\u001B[1;31mValueError\u001B[0m: multilabel-indicator is not supported"
     ]
    }
   ],
   "source": [
    "# View classification report and confusion matrix\n",
    "classification_confusion_evaluation(y_test, rnn_model_preds, list_of_class)"
   ],
   "metadata": {
    "collapsed": false
   }
  },
  {
   "cell_type": "code",
   "execution_count": null,
   "outputs": [],
   "source": [],
   "metadata": {
    "collapsed": false
   }
  }
 ],
 "metadata": {
  "kernelspec": {
   "display_name": "Python 3",
   "language": "python",
   "name": "python3"
  },
  "language_info": {
   "codemirror_mode": {
    "name": "ipython",
    "version": 2
   },
   "file_extension": ".py",
   "mimetype": "text/x-python",
   "name": "python",
   "nbconvert_exporter": "python",
   "pygments_lexer": "ipython2",
   "version": "2.7.6"
  }
 },
 "nbformat": 4,
 "nbformat_minor": 0
}
